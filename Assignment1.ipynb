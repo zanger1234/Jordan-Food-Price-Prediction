{
 "cells": [
  {
   "cell_type": "code",
   "execution_count": 17,
   "metadata": {},
   "outputs": [],
   "source": [
    "import pandas as pd\n",
    "import numpy as np\n",
    "import matplotlib.pyplot as plt\n",
    "import plotly.express as px\n",
    "import seaborn as sns\n",
    "from sklearn.linear_model import LinearRegression\n",
    "from sklearn.model_selection import train_test_split\n",
    "from scipy import stats\n",
    "from statsmodels.stats import weightstats\n"
   ]
  },
  {
   "cell_type": "code",
   "execution_count": 18,
   "metadata": {},
   "outputs": [
    {
     "data": {
      "text/html": [
       "<div>\n",
       "<style scoped>\n",
       "    .dataframe tbody tr th:only-of-type {\n",
       "        vertical-align: middle;\n",
       "    }\n",
       "\n",
       "    .dataframe tbody tr th {\n",
       "        vertical-align: top;\n",
       "    }\n",
       "\n",
       "    .dataframe thead th {\n",
       "        text-align: right;\n",
       "    }\n",
       "</style>\n",
       "<table border=\"1\" class=\"dataframe\">\n",
       "  <thead>\n",
       "    <tr style=\"text-align: right;\">\n",
       "      <th></th>\n",
       "      <th>date</th>\n",
       "      <th>admin1</th>\n",
       "      <th>admin2</th>\n",
       "      <th>market</th>\n",
       "      <th>latitude</th>\n",
       "      <th>longitude</th>\n",
       "      <th>category</th>\n",
       "      <th>commodity</th>\n",
       "      <th>unit</th>\n",
       "      <th>price</th>\n",
       "      <th>usdprice</th>\n",
       "    </tr>\n",
       "  </thead>\n",
       "  <tbody>\n",
       "    <tr>\n",
       "      <th>0</th>\n",
       "      <td>2011-01-15</td>\n",
       "      <td>NaN</td>\n",
       "      <td>NaN</td>\n",
       "      <td>National Average</td>\n",
       "      <td>NaN</td>\n",
       "      <td>NaN</td>\n",
       "      <td>cereals and tubers</td>\n",
       "      <td>Bread (pita)</td>\n",
       "      <td>KG</td>\n",
       "      <td>0.16</td>\n",
       "      <td>0.2253</td>\n",
       "    </tr>\n",
       "    <tr>\n",
       "      <th>1</th>\n",
       "      <td>2011-01-15</td>\n",
       "      <td>NaN</td>\n",
       "      <td>NaN</td>\n",
       "      <td>National Average</td>\n",
       "      <td>NaN</td>\n",
       "      <td>NaN</td>\n",
       "      <td>cereals and tubers</td>\n",
       "      <td>Rice (imported)</td>\n",
       "      <td>KG</td>\n",
       "      <td>0.90</td>\n",
       "      <td>1.2674</td>\n",
       "    </tr>\n",
       "    <tr>\n",
       "      <th>2</th>\n",
       "      <td>2011-01-15</td>\n",
       "      <td>NaN</td>\n",
       "      <td>NaN</td>\n",
       "      <td>National Average</td>\n",
       "      <td>NaN</td>\n",
       "      <td>NaN</td>\n",
       "      <td>oil and fats</td>\n",
       "      <td>Oil (vegetable)</td>\n",
       "      <td>1.8 L</td>\n",
       "      <td>1.50</td>\n",
       "      <td>2.1124</td>\n",
       "    </tr>\n",
       "    <tr>\n",
       "      <th>3</th>\n",
       "      <td>2011-01-15</td>\n",
       "      <td>NaN</td>\n",
       "      <td>NaN</td>\n",
       "      <td>National Average</td>\n",
       "      <td>NaN</td>\n",
       "      <td>NaN</td>\n",
       "      <td>pulses and nuts</td>\n",
       "      <td>Pulses</td>\n",
       "      <td>KG</td>\n",
       "      <td>1.20</td>\n",
       "      <td>1.6899</td>\n",
       "    </tr>\n",
       "    <tr>\n",
       "      <th>4</th>\n",
       "      <td>2011-02-15</td>\n",
       "      <td>NaN</td>\n",
       "      <td>NaN</td>\n",
       "      <td>National Average</td>\n",
       "      <td>NaN</td>\n",
       "      <td>NaN</td>\n",
       "      <td>cereals and tubers</td>\n",
       "      <td>Bread (pita)</td>\n",
       "      <td>KG</td>\n",
       "      <td>0.16</td>\n",
       "      <td>0.2253</td>\n",
       "    </tr>\n",
       "    <tr>\n",
       "      <th>...</th>\n",
       "      <td>...</td>\n",
       "      <td>...</td>\n",
       "      <td>...</td>\n",
       "      <td>...</td>\n",
       "      <td>...</td>\n",
       "      <td>...</td>\n",
       "      <td>...</td>\n",
       "      <td>...</td>\n",
       "      <td>...</td>\n",
       "      <td>...</td>\n",
       "      <td>...</td>\n",
       "    </tr>\n",
       "    <tr>\n",
       "      <th>28825</th>\n",
       "      <td>2022-07-15</td>\n",
       "      <td>Zarqa</td>\n",
       "      <td>Qasabet Az_Zarqa District</td>\n",
       "      <td>Zarqa</td>\n",
       "      <td>32.060791</td>\n",
       "      <td>36.09428</td>\n",
       "      <td>vegetables and fruits</td>\n",
       "      <td>Garlic</td>\n",
       "      <td>KG</td>\n",
       "      <td>3.45</td>\n",
       "      <td>4.8530</td>\n",
       "    </tr>\n",
       "    <tr>\n",
       "      <th>28826</th>\n",
       "      <td>2022-07-15</td>\n",
       "      <td>Zarqa</td>\n",
       "      <td>Qasabet Az_Zarqa District</td>\n",
       "      <td>Zarqa</td>\n",
       "      <td>32.060791</td>\n",
       "      <td>36.09428</td>\n",
       "      <td>vegetables and fruits</td>\n",
       "      <td>Onions</td>\n",
       "      <td>KG</td>\n",
       "      <td>0.39</td>\n",
       "      <td>0.5477</td>\n",
       "    </tr>\n",
       "    <tr>\n",
       "      <th>28827</th>\n",
       "      <td>2022-07-15</td>\n",
       "      <td>Zarqa</td>\n",
       "      <td>Qasabet Az_Zarqa District</td>\n",
       "      <td>Zarqa</td>\n",
       "      <td>32.060791</td>\n",
       "      <td>36.09428</td>\n",
       "      <td>vegetables and fruits</td>\n",
       "      <td>Oranges (big size)</td>\n",
       "      <td>KG</td>\n",
       "      <td>1.14</td>\n",
       "      <td>1.6064</td>\n",
       "    </tr>\n",
       "    <tr>\n",
       "      <th>28828</th>\n",
       "      <td>2022-07-15</td>\n",
       "      <td>Zarqa</td>\n",
       "      <td>Qasabet Az_Zarqa District</td>\n",
       "      <td>Zarqa</td>\n",
       "      <td>32.060791</td>\n",
       "      <td>36.09428</td>\n",
       "      <td>vegetables and fruits</td>\n",
       "      <td>Spinach</td>\n",
       "      <td>KG</td>\n",
       "      <td>0.77</td>\n",
       "      <td>1.0848</td>\n",
       "    </tr>\n",
       "    <tr>\n",
       "      <th>28829</th>\n",
       "      <td>2022-07-15</td>\n",
       "      <td>Zarqa</td>\n",
       "      <td>Qasabet Az_Zarqa District</td>\n",
       "      <td>Zarqa</td>\n",
       "      <td>32.060791</td>\n",
       "      <td>36.09428</td>\n",
       "      <td>vegetables and fruits</td>\n",
       "      <td>Tomatoes</td>\n",
       "      <td>KG</td>\n",
       "      <td>0.37</td>\n",
       "      <td>0.5273</td>\n",
       "    </tr>\n",
       "  </tbody>\n",
       "</table>\n",
       "<p>28830 rows × 11 columns</p>\n",
       "</div>"
      ],
      "text/plain": [
       "            date admin1                     admin2            market  \\\n",
       "0     2011-01-15    NaN                        NaN  National Average   \n",
       "1     2011-01-15    NaN                        NaN  National Average   \n",
       "2     2011-01-15    NaN                        NaN  National Average   \n",
       "3     2011-01-15    NaN                        NaN  National Average   \n",
       "4     2011-02-15    NaN                        NaN  National Average   \n",
       "...          ...    ...                        ...               ...   \n",
       "28825 2022-07-15  Zarqa  Qasabet Az_Zarqa District             Zarqa   \n",
       "28826 2022-07-15  Zarqa  Qasabet Az_Zarqa District             Zarqa   \n",
       "28827 2022-07-15  Zarqa  Qasabet Az_Zarqa District             Zarqa   \n",
       "28828 2022-07-15  Zarqa  Qasabet Az_Zarqa District             Zarqa   \n",
       "28829 2022-07-15  Zarqa  Qasabet Az_Zarqa District             Zarqa   \n",
       "\n",
       "        latitude  longitude               category           commodity   unit  \\\n",
       "0            NaN        NaN     cereals and tubers        Bread (pita)     KG   \n",
       "1            NaN        NaN     cereals and tubers     Rice (imported)     KG   \n",
       "2            NaN        NaN           oil and fats     Oil (vegetable)  1.8 L   \n",
       "3            NaN        NaN        pulses and nuts              Pulses     KG   \n",
       "4            NaN        NaN     cereals and tubers        Bread (pita)     KG   \n",
       "...          ...        ...                    ...                 ...    ...   \n",
       "28825  32.060791   36.09428  vegetables and fruits              Garlic     KG   \n",
       "28826  32.060791   36.09428  vegetables and fruits              Onions     KG   \n",
       "28827  32.060791   36.09428  vegetables and fruits  Oranges (big size)     KG   \n",
       "28828  32.060791   36.09428  vegetables and fruits             Spinach     KG   \n",
       "28829  32.060791   36.09428  vegetables and fruits            Tomatoes     KG   \n",
       "\n",
       "       price  usdprice  \n",
       "0       0.16    0.2253  \n",
       "1       0.90    1.2674  \n",
       "2       1.50    2.1124  \n",
       "3       1.20    1.6899  \n",
       "4       0.16    0.2253  \n",
       "...      ...       ...  \n",
       "28825   3.45    4.8530  \n",
       "28826   0.39    0.5477  \n",
       "28827   1.14    1.6064  \n",
       "28828   0.77    1.0848  \n",
       "28829   0.37    0.5273  \n",
       "\n",
       "[28830 rows x 11 columns]"
      ]
     },
     "execution_count": 18,
     "metadata": {},
     "output_type": "execute_result"
    }
   ],
   "source": [
    "df = pd.read_csv('jordan_food_price.csv', parse_dates = ['date'])\n",
    "# df[['date','market','commodity','price']].tail(60)\n",
    "df"
   ]
  },
  {
   "cell_type": "code",
   "execution_count": 19,
   "metadata": {},
   "outputs": [
    {
     "data": {
      "text/html": [
       "<div>\n",
       "<style scoped>\n",
       "    .dataframe tbody tr th:only-of-type {\n",
       "        vertical-align: middle;\n",
       "    }\n",
       "\n",
       "    .dataframe tbody tr th {\n",
       "        vertical-align: top;\n",
       "    }\n",
       "\n",
       "    .dataframe thead th {\n",
       "        text-align: right;\n",
       "    }\n",
       "</style>\n",
       "<table border=\"1\" class=\"dataframe\">\n",
       "  <thead>\n",
       "    <tr style=\"text-align: right;\">\n",
       "      <th></th>\n",
       "      <th>date</th>\n",
       "      <th>admin1</th>\n",
       "      <th>admin2</th>\n",
       "      <th>market</th>\n",
       "      <th>latitude</th>\n",
       "      <th>longitude</th>\n",
       "      <th>category</th>\n",
       "      <th>commodity</th>\n",
       "      <th>unit</th>\n",
       "      <th>price</th>\n",
       "      <th>usdprice</th>\n",
       "    </tr>\n",
       "  </thead>\n",
       "  <tbody>\n",
       "    <tr>\n",
       "      <th>0</th>\n",
       "      <td>2011-01-15</td>\n",
       "      <td>NaN</td>\n",
       "      <td>NaN</td>\n",
       "      <td>National Average</td>\n",
       "      <td>31.619018</td>\n",
       "      <td>35.880885</td>\n",
       "      <td>cereals and tubers</td>\n",
       "      <td>Bread (pita)</td>\n",
       "      <td>KG</td>\n",
       "      <td>0.16</td>\n",
       "      <td>0.2253</td>\n",
       "    </tr>\n",
       "    <tr>\n",
       "      <th>1</th>\n",
       "      <td>2011-01-15</td>\n",
       "      <td>NaN</td>\n",
       "      <td>NaN</td>\n",
       "      <td>National Average</td>\n",
       "      <td>31.619018</td>\n",
       "      <td>35.880885</td>\n",
       "      <td>cereals and tubers</td>\n",
       "      <td>Rice (imported)</td>\n",
       "      <td>KG</td>\n",
       "      <td>0.90</td>\n",
       "      <td>1.2674</td>\n",
       "    </tr>\n",
       "    <tr>\n",
       "      <th>2</th>\n",
       "      <td>2011-01-15</td>\n",
       "      <td>NaN</td>\n",
       "      <td>NaN</td>\n",
       "      <td>National Average</td>\n",
       "      <td>31.619018</td>\n",
       "      <td>35.880885</td>\n",
       "      <td>oil and fats</td>\n",
       "      <td>Oil (vegetable)</td>\n",
       "      <td>1.8 L</td>\n",
       "      <td>1.50</td>\n",
       "      <td>2.1124</td>\n",
       "    </tr>\n",
       "    <tr>\n",
       "      <th>3</th>\n",
       "      <td>2011-01-15</td>\n",
       "      <td>NaN</td>\n",
       "      <td>NaN</td>\n",
       "      <td>National Average</td>\n",
       "      <td>31.619018</td>\n",
       "      <td>35.880885</td>\n",
       "      <td>pulses and nuts</td>\n",
       "      <td>Pulses</td>\n",
       "      <td>KG</td>\n",
       "      <td>1.20</td>\n",
       "      <td>1.6899</td>\n",
       "    </tr>\n",
       "    <tr>\n",
       "      <th>4</th>\n",
       "      <td>2011-02-15</td>\n",
       "      <td>NaN</td>\n",
       "      <td>NaN</td>\n",
       "      <td>National Average</td>\n",
       "      <td>31.619018</td>\n",
       "      <td>35.880885</td>\n",
       "      <td>cereals and tubers</td>\n",
       "      <td>Bread (pita)</td>\n",
       "      <td>KG</td>\n",
       "      <td>0.16</td>\n",
       "      <td>0.2253</td>\n",
       "    </tr>\n",
       "    <tr>\n",
       "      <th>...</th>\n",
       "      <td>...</td>\n",
       "      <td>...</td>\n",
       "      <td>...</td>\n",
       "      <td>...</td>\n",
       "      <td>...</td>\n",
       "      <td>...</td>\n",
       "      <td>...</td>\n",
       "      <td>...</td>\n",
       "      <td>...</td>\n",
       "      <td>...</td>\n",
       "      <td>...</td>\n",
       "    </tr>\n",
       "    <tr>\n",
       "      <th>28825</th>\n",
       "      <td>2022-07-15</td>\n",
       "      <td>Zarqa</td>\n",
       "      <td>Qasabet Az_Zarqa District</td>\n",
       "      <td>Zarqa</td>\n",
       "      <td>32.060791</td>\n",
       "      <td>36.094280</td>\n",
       "      <td>vegetables and fruits</td>\n",
       "      <td>Garlic</td>\n",
       "      <td>KG</td>\n",
       "      <td>3.45</td>\n",
       "      <td>4.8530</td>\n",
       "    </tr>\n",
       "    <tr>\n",
       "      <th>28826</th>\n",
       "      <td>2022-07-15</td>\n",
       "      <td>Zarqa</td>\n",
       "      <td>Qasabet Az_Zarqa District</td>\n",
       "      <td>Zarqa</td>\n",
       "      <td>32.060791</td>\n",
       "      <td>36.094280</td>\n",
       "      <td>vegetables and fruits</td>\n",
       "      <td>Onions</td>\n",
       "      <td>KG</td>\n",
       "      <td>0.39</td>\n",
       "      <td>0.5477</td>\n",
       "    </tr>\n",
       "    <tr>\n",
       "      <th>28827</th>\n",
       "      <td>2022-07-15</td>\n",
       "      <td>Zarqa</td>\n",
       "      <td>Qasabet Az_Zarqa District</td>\n",
       "      <td>Zarqa</td>\n",
       "      <td>32.060791</td>\n",
       "      <td>36.094280</td>\n",
       "      <td>vegetables and fruits</td>\n",
       "      <td>Oranges (big size)</td>\n",
       "      <td>KG</td>\n",
       "      <td>1.14</td>\n",
       "      <td>1.6064</td>\n",
       "    </tr>\n",
       "    <tr>\n",
       "      <th>28828</th>\n",
       "      <td>2022-07-15</td>\n",
       "      <td>Zarqa</td>\n",
       "      <td>Qasabet Az_Zarqa District</td>\n",
       "      <td>Zarqa</td>\n",
       "      <td>32.060791</td>\n",
       "      <td>36.094280</td>\n",
       "      <td>vegetables and fruits</td>\n",
       "      <td>Spinach</td>\n",
       "      <td>KG</td>\n",
       "      <td>0.77</td>\n",
       "      <td>1.0848</td>\n",
       "    </tr>\n",
       "    <tr>\n",
       "      <th>28829</th>\n",
       "      <td>2022-07-15</td>\n",
       "      <td>Zarqa</td>\n",
       "      <td>Qasabet Az_Zarqa District</td>\n",
       "      <td>Zarqa</td>\n",
       "      <td>32.060791</td>\n",
       "      <td>36.094280</td>\n",
       "      <td>vegetables and fruits</td>\n",
       "      <td>Tomatoes</td>\n",
       "      <td>KG</td>\n",
       "      <td>0.37</td>\n",
       "      <td>0.5273</td>\n",
       "    </tr>\n",
       "  </tbody>\n",
       "</table>\n",
       "<p>28830 rows × 11 columns</p>\n",
       "</div>"
      ],
      "text/plain": [
       "            date admin1                     admin2            market  \\\n",
       "0     2011-01-15    NaN                        NaN  National Average   \n",
       "1     2011-01-15    NaN                        NaN  National Average   \n",
       "2     2011-01-15    NaN                        NaN  National Average   \n",
       "3     2011-01-15    NaN                        NaN  National Average   \n",
       "4     2011-02-15    NaN                        NaN  National Average   \n",
       "...          ...    ...                        ...               ...   \n",
       "28825 2022-07-15  Zarqa  Qasabet Az_Zarqa District             Zarqa   \n",
       "28826 2022-07-15  Zarqa  Qasabet Az_Zarqa District             Zarqa   \n",
       "28827 2022-07-15  Zarqa  Qasabet Az_Zarqa District             Zarqa   \n",
       "28828 2022-07-15  Zarqa  Qasabet Az_Zarqa District             Zarqa   \n",
       "28829 2022-07-15  Zarqa  Qasabet Az_Zarqa District             Zarqa   \n",
       "\n",
       "        latitude  longitude               category           commodity   unit  \\\n",
       "0      31.619018  35.880885     cereals and tubers        Bread (pita)     KG   \n",
       "1      31.619018  35.880885     cereals and tubers     Rice (imported)     KG   \n",
       "2      31.619018  35.880885           oil and fats     Oil (vegetable)  1.8 L   \n",
       "3      31.619018  35.880885        pulses and nuts              Pulses     KG   \n",
       "4      31.619018  35.880885     cereals and tubers        Bread (pita)     KG   \n",
       "...          ...        ...                    ...                 ...    ...   \n",
       "28825  32.060791  36.094280  vegetables and fruits              Garlic     KG   \n",
       "28826  32.060791  36.094280  vegetables and fruits              Onions     KG   \n",
       "28827  32.060791  36.094280  vegetables and fruits  Oranges (big size)     KG   \n",
       "28828  32.060791  36.094280  vegetables and fruits             Spinach     KG   \n",
       "28829  32.060791  36.094280  vegetables and fruits            Tomatoes     KG   \n",
       "\n",
       "       price  usdprice  \n",
       "0       0.16    0.2253  \n",
       "1       0.90    1.2674  \n",
       "2       1.50    2.1124  \n",
       "3       1.20    1.6899  \n",
       "4       0.16    0.2253  \n",
       "...      ...       ...  \n",
       "28825   3.45    4.8530  \n",
       "28826   0.39    0.5477  \n",
       "28827   1.14    1.6064  \n",
       "28828   0.77    1.0848  \n",
       "28829   0.37    0.5273  \n",
       "\n",
       "[28830 rows x 11 columns]"
      ]
     },
     "execution_count": 19,
     "metadata": {},
     "output_type": "execute_result"
    }
   ],
   "source": [
    "# numeric = df.select_dtypes(include=np.number)\n",
    "# numeric_columns = numeric.columns\n",
    "# df[numeric_columns] = df[numeric_columns].fillna(df.mean())\n",
    "df['latitude'] = df['latitude'].fillna(df['latitude'].mean())\n",
    "df['longitude'] = df['longitude'].fillna(df['longitude'].mean())\n",
    "df"
   ]
  },
  {
   "cell_type": "code",
   "execution_count": 20,
   "metadata": {},
   "outputs": [],
   "source": [
    "df.insert(0, 'year',df.date.dt.year)\n",
    "df.insert(1, 'month',df.date.dt.month)\n",
    "df = df.drop(columns=['date','usdprice','admin1','admin2'])"
   ]
  },
  {
   "cell_type": "code",
   "execution_count": 21,
   "metadata": {},
   "outputs": [
    {
     "data": {
      "image/png": "[encoded data removed]",
      "text/plain": [
       "<Figure size 800x800 with 1 Axes>"
      ]
     },
     "metadata": {},
     "output_type": "display_data"
    },
    {
     "data": {
      "image/png": "[encoded data removed]",
      "text/plain": [
       "<Figure size 600x600 with 1 Axes>"
      ]
     },
     "metadata": {},
     "output_type": "display_data"
    }
   ],
   "source": [
    "plt.figure(figsize = (8,8))\n",
    "sns.boxplot(data = df, y = 'commodity', x = 'price')\n",
    "fig, ax = plt.subplots(figsize = (6,6))\n",
    "ax.scatter(df['price'],df['commodity'])\n",
    "plt.show()"
   ]
  },
  {
   "cell_type": "code",
   "execution_count": 22,
   "metadata": {},
   "outputs": [
    {
     "data": {
      "text/plain": [
       "(28573, 9)"
      ]
     },
     "execution_count": 22,
     "metadata": {},
     "output_type": "execute_result"
    }
   ],
   "source": [
    "# here we calculate the IQR using quartile 1 and 3, then finding the lower bound and upper bound by subtracting and adding the IQR * 1.5 (formula for finding outliers\n",
    "# within given data)\n",
    "def outliers_iqr(column):\n",
    "    q1, q3 = np.percentile(column, [20, 80])\n",
    "    iqr = q3 - q1\n",
    "    lower_bound = q1 - (iqr * 1.5)\n",
    "    upper_bound = q3 + (iqr * 1.5)\n",
    "    return (column > upper_bound) | (column < lower_bound)\n",
    "\n",
    "# remove outliers from price column relative to the commodity column, where we pass to the outliers iqr function\n",
    "df_Outliers_Removed = df[~df.groupby(['commodity'], group_keys = False)['price'].apply(outliers_iqr)]\n",
    "df_Outliers_Removed.shape"
   ]
  },
  {
   "cell_type": "code",
   "execution_count": 23,
   "metadata": {},
   "outputs": [
    {
     "data": {
      "image/png": "[encoded data removed]",
      "text/plain": [
       "<Figure size 800x800 with 1 Axes>"
      ]
     },
     "metadata": {},
     "output_type": "display_data"
    },
    {
     "data": {
      "image/png": "[encoded data removed]",
      "text/plain": [
       "<Figure size 600x600 with 1 Axes>"
      ]
     },
     "metadata": {},
     "output_type": "display_data"
    }
   ],
   "source": [
    "plt.figure(figsize = (8,8))\n",
    "sns.boxplot(data = df_Outliers_Removed, y = 'commodity', x = 'price')\n",
    "fig, ax = plt.subplots(figsize = (6,6))\n",
    "ax.scatter(df_Outliers_Removed['price'],df_Outliers_Removed['commodity'])\n",
    "plt.show()\n",
    "# df1 = df_Outliers_Removed[df_Outliers_Removed['commodity'] == 'Meat (chicken)']"
   ]
  },
  {
   "cell_type": "code",
   "execution_count": 24,
   "metadata": {},
   "outputs": [
    {
     "data": {
      "text/plain": [
       "(28573, 73)"
      ]
     },
     "execution_count": 24,
     "metadata": {},
     "output_type": "execute_result"
    }
   ],
   "source": [
    "# df_processed = df_Outliers_Removed.drop(columns=['unit','latitude','longitude','category'])\n",
    "df_processed = df_Outliers_Removed\n",
    "df_processed = pd.get_dummies(df_processed)\n",
    "df_processed.shape\n",
    "#one-hot encoding"
   ]
  },
  {
   "cell_type": "code",
   "execution_count": 25,
   "metadata": {},
   "outputs": [
    {
     "data": {
      "image/png": "[encoded data removed]",
      "text/plain": [
       "<Figure size 500x500 with 1 Axes>"
      ]
     },
     "metadata": {},
     "output_type": "display_data"
    }
   ],
   "source": [
    "X = df_processed.drop(labels='price',axis=1)\n",
    "y = df_processed['price']\n",
    "\n",
    "from sklearn.feature_selection import SelectKBest\n",
    "from sklearn.feature_selection import f_regression\n",
    "\n",
    "skbfs = SelectKBest(score_func=f_regression, k = 10)\n",
    "skbfs.fit_transform(X, y)\n",
    "\n",
    "plt.figure(figsize = (5,5))\n",
    "feat_importances_skb = pd.Series(skbfs.pvalues_, index=X.columns)\n",
    "feat_importances_skb.nlargest(20).plot(kind='barh')\n",
    "plt.xlabel(\"pvalues for features\")\n",
    "plt.ylabel(\"columns\")\n",
    "plt.title(\"SelectKBest\")\n",
    "plt.show()\n"
   ]
  },
  {
   "cell_type": "code",
   "execution_count": 47,
   "metadata": {},
   "outputs": [
    {
     "data": {
      "image/png": "[encoded data removed]",
      "text/plain": [
       "<Figure size 800x800 with 1 Axes>"
      ]
     },
     "metadata": {},
     "output_type": "display_data"
    }
   ],
   "source": [
    "from sklearn.feature_selection import RFE\n",
    "X = df_processed.drop(labels='price',axis=1)\n",
    "y = df_processed['price']\n",
    "\n",
    "rfefs = RFE(estimator = LinearRegression(), n_features_to_select = 70)\n",
    "rfefs = rfefs.fit(X,y) \n",
    "X.columns[rfefs.support_]\n",
    "\n",
    "plt.figure(figsize = (8,8))\n",
    "feat_importances_RFE = pd.Series(rfefs.estimator_.coef_, index= X.columns[rfefs.support_])\n",
    "feat_importances_RFE.nlargest(30).plot(kind='barh')\n",
    "\n",
    "plt.xlabel(\"coefficient score from estimator\")\n",
    "plt.ylabel(\"columns\")\n",
    "plt.title(\"RFE\")\n",
    "plt.show()"
   ]
  },
  {
   "cell_type": "code",
   "execution_count": 29,
   "metadata": {},
   "outputs": [],
   "source": [
    "df1 = df_Outliers_Removed.copy()\n",
    "# df2 = df_Outliers_Removed.copy()\n",
    "\n",
    "df1 = df1[df1['year'] > 2016]\n",
    "df1 = df1[(df1['month'] == 1) | (df1['month'] == 12) | (df1['month'] == 7)]\n",
    "# df2 = df2[df2['year'] == 2022]\n",
    "# df2 = df2[(df2['year'] == 2022) & (df2['month'] == 7)]\n",
    "# df2 = df2.groupby(['market','month'])['price'].sum().reset_index()\n",
    "# df1 = df1.groupby(['year','month','market'])['price'].mean().reset_index()"
   ]
  },
  {
   "cell_type": "code",
   "execution_count": 30,
   "metadata": {},
   "outputs": [],
   "source": [
    "import math\n",
    "def func(x):\n",
    "    val = x['Dec']\n",
    "    if math.isnan(x['Dec']):\n",
    "        val = x['Jul']\n",
    "    return val        "
   ]
  },
  {
   "cell_type": "code",
   "execution_count": 31,
   "metadata": {},
   "outputs": [],
   "source": [
    "df_pivot = df1.pivot_table(index = ['market','year'],columns =  \"month\",values = \"price\",aggfunc='sum', sort = False)\n",
    "df_pivot = df_pivot.reset_index()\n",
    "\n",
    "df_pivot = df_pivot.rename_axis(None, axis=1)\n",
    "df_pivot = df_pivot.rename(columns={1: 'Jan', 7: 'Jul', 12: 'Dec'})\n",
    "df_pivot['Dec'] = [func(y) for x,y in df_pivot.iterrows()]\n",
    "\n",
    "df_pivot = df_pivot.drop(['Jul'], axis = 1)\n",
    "df_pivot['sum_diff'] = df_pivot['Dec'] - df_pivot['Jan']\n",
    "df_pivot = df_pivot.sort_values(by=['year','sum_diff'], ascending=[True,False])\n",
    "\n"
   ]
  },
  {
   "cell_type": "code",
   "execution_count": 32,
   "metadata": {},
   "outputs": [
    {
     "data": {
      "application/vnd.plotly.v1+json": {
       "config": {
        "plotlyServerURL": "https://plot.ly"
       },
       "data": [
        {
         "hovertemplate": "market=Madaba<br>year=%{x}<br>sum_diff=%{y}<extra></extra>",
         "legendgroup": "Madaba",
         "line": {
          "color": "#636efa",
          "dash": "solid"
         },
         "marker": {
          "symbol": "circle"
         },
         "mode": "lines+markers",
         "name": "Madaba",
         "orientation": "v",
         "showlegend": true,
         "type": "scatter",
         "x": [
          2017,
          2018,
          2019,
          2020,
          2021,
          2022
         ],
         "xaxis": "x",
         "y": [
          50.28999999999999,
          0.8299999999999983,
          0.25,
          1.1799999999999926,
          1.9399999999999977,
          -0.7099999999999937
         ],
         "yaxis": "y"
        },
        {
         "hovertemplate": "market=Al Aqaba<br>year=%{x}<br>sum_diff=%{y}<extra></extra>",
         "legendgroup": "Al Aqaba",
         "line": {
          "color": "#EF553B",
          "dash": "solid"
         },
         "marker": {
          "symbol": "circle"
         },
         "mode": "lines+markers",
         "name": "Al Aqaba",
         "orientation": "v",
         "showlegend": true,
         "type": "scatter",
         "x": [
          2017,
          2018,
          2019,
          2020,
          2021,
          2022
         ],
         "xaxis": "x",
         "y": [
          5.869999999999997,
          2.0799999999999983,
          -0.9200000000000017,
          1.3999999999999915,
          1.4300000000000068,
          0.09999999999999432
         ],
         "yaxis": "y"
        },
        {
         "hovertemplate": "market=Al Tafilah<br>year=%{x}<br>sum_diff=%{y}<extra></extra>",
         "legendgroup": "Al Tafilah",
         "line": {
          "color": "#00cc96",
          "dash": "solid"
         },
         "marker": {
          "symbol": "circle"
         },
         "mode": "lines+markers",
         "name": "Al Tafilah",
         "orientation": "v",
         "showlegend": true,
         "type": "scatter",
         "x": [
          2017,
          2018,
          2019,
          2020,
          2021,
          2022
         ],
         "xaxis": "x",
         "y": [
          4.730000000000004,
          0.539999999999992,
          2.019999999999996,
          -1.75,
          2.5,
          -8.009999999999998
         ],
         "yaxis": "y"
        },
        {
         "hovertemplate": "market=Al Mafraq<br>year=%{x}<br>sum_diff=%{y}<extra></extra>",
         "legendgroup": "Al Mafraq",
         "line": {
          "color": "#ab63fa",
          "dash": "solid"
         },
         "marker": {
          "symbol": "circle"
         },
         "mode": "lines+markers",
         "name": "Al Mafraq",
         "orientation": "v",
         "showlegend": true,
         "type": "scatter",
         "x": [
          2017,
          2018,
          2019,
          2020,
          2021,
          2022
         ],
         "xaxis": "x",
         "y": [
          4.700000000000003,
          -2.470000000000013,
          2.219999999999999,
          0.6200000000000045,
          0.960000000000008,
          -3.219999999999999
         ],
         "yaxis": "y"
        },
        {
         "hovertemplate": "market=Irbid<br>year=%{x}<br>sum_diff=%{y}<extra></extra>",
         "legendgroup": "Irbid",
         "line": {
          "color": "#FFA15A",
          "dash": "solid"
         },
         "marker": {
          "symbol": "circle"
         },
         "mode": "lines+markers",
         "name": "Irbid",
         "orientation": "v",
         "showlegend": true,
         "type": "scatter",
         "x": [
          2017,
          2018,
          2019,
          2020,
          2021,
          2022
         ],
         "xaxis": "x",
         "y": [
          4.27000000000001,
          -1.4300000000000068,
          2.1700000000000017,
          1.2700000000000102,
          1.9200000000000017,
          -0.6000000000000085
         ],
         "yaxis": "y"
        },
        {
         "hovertemplate": "market=Jarash<br>year=%{x}<br>sum_diff=%{y}<extra></extra>",
         "legendgroup": "Jarash",
         "line": {
          "color": "#19d3f3",
          "dash": "solid"
         },
         "marker": {
          "symbol": "circle"
         },
         "mode": "lines+markers",
         "name": "Jarash",
         "orientation": "v",
         "showlegend": true,
         "type": "scatter",
         "x": [
          2017,
          2018,
          2019,
          2020,
          2021,
          2022
         ],
         "xaxis": "x",
         "y": [
          4.25,
          -1.019999999999996,
          -0.1599999999999966,
          0.9500000000000028,
          0.1599999999999966,
          0.9200000000000017
         ],
         "yaxis": "y"
        },
        {
         "hovertemplate": "market=Ajloun<br>year=%{x}<br>sum_diff=%{y}<extra></extra>",
         "legendgroup": "Ajloun",
         "line": {
          "color": "#FF6692",
          "dash": "solid"
         },
         "marker": {
          "symbol": "circle"
         },
         "mode": "lines+markers",
         "name": "Ajloun",
         "orientation": "v",
         "showlegend": true,
         "type": "scatter",
         "x": [
          2017,
          2018,
          2019,
          2020,
          2021,
          2022
         ],
         "xaxis": "x",
         "y": [
          4.179999999999993,
          -0.09999999999999432,
          0.9099999999999966,
          0.2600000000000051,
          1.1300000000000097,
          -1.4200000000000017
         ],
         "yaxis": "y"
        },
        {
         "hovertemplate": "market=Maan<br>year=%{x}<br>sum_diff=%{y}<extra></extra>",
         "legendgroup": "Maan",
         "line": {
          "color": "#B6E880",
          "dash": "solid"
         },
         "marker": {
          "symbol": "circle"
         },
         "mode": "lines+markers",
         "name": "Maan",
         "orientation": "v",
         "showlegend": true,
         "type": "scatter",
         "x": [
          2017,
          2018,
          2019,
          2020,
          2021,
          2022
         ],
         "xaxis": "x",
         "y": [
          4.1599999999999895,
          -2.480000000000004,
          0.09000000000000341,
          2.6999999999999886,
          2.3900000000000006,
          -7.049999999999997
         ],
         "yaxis": "y"
        },
        {
         "hovertemplate": "market=Al Karak<br>year=%{x}<br>sum_diff=%{y}<extra></extra>",
         "legendgroup": "Al Karak",
         "line": {
          "color": "#FF97FF",
          "dash": "solid"
         },
         "marker": {
          "symbol": "circle"
         },
         "mode": "lines+markers",
         "name": "Al Karak",
         "orientation": "v",
         "showlegend": true,
         "type": "scatter",
         "x": [
          2017,
          2018,
          2019,
          2020,
          2021,
          2022
         ],
         "xaxis": "x",
         "y": [
          4.119999999999997,
          0.5099999999999909,
          2.6700000000000017,
          0.519999999999996,
          -0.9299999999999926,
          0.1799999999999926
         ],
         "yaxis": "y"
        },
        {
         "hovertemplate": "market=Amman<br>year=%{x}<br>sum_diff=%{y}<extra></extra>",
         "legendgroup": "Amman",
         "line": {
          "color": "#FECB52",
          "dash": "solid"
         },
         "marker": {
          "symbol": "circle"
         },
         "mode": "lines+markers",
         "name": "Amman",
         "orientation": "v",
         "showlegend": true,
         "type": "scatter",
         "x": [
          2017,
          2018,
          2019,
          2020,
          2021,
          2022
         ],
         "xaxis": "x",
         "y": [
          3.440000000000005,
          0.4200000000000017,
          2.6799999999999926,
          1.730000000000004,
          2.0400000000000063,
          -2.6700000000000017
         ],
         "yaxis": "y"
        },
        {
         "hovertemplate": "market=Al Balqa<br>year=%{x}<br>sum_diff=%{y}<extra></extra>",
         "legendgroup": "Al Balqa",
         "line": {
          "color": "#636efa",
          "dash": "solid"
         },
         "marker": {
          "symbol": "circle"
         },
         "mode": "lines+markers",
         "name": "Al Balqa",
         "orientation": "v",
         "showlegend": true,
         "type": "scatter",
         "x": [
          2017,
          2018,
          2019,
          2020,
          2021,
          2022
         ],
         "xaxis": "x",
         "y": [
          1.4100000000000037,
          4.839999999999989,
          -0.0799999999999983,
          0.6400000000000006,
          0.1700000000000017,
          -3.0800000000000125
         ],
         "yaxis": "y"
        },
        {
         "hovertemplate": "market=Zarqa<br>year=%{x}<br>sum_diff=%{y}<extra></extra>",
         "legendgroup": "Zarqa",
         "line": {
          "color": "#EF553B",
          "dash": "solid"
         },
         "marker": {
          "symbol": "circle"
         },
         "mode": "lines+markers",
         "name": "Zarqa",
         "orientation": "v",
         "showlegend": true,
         "type": "scatter",
         "x": [
          2017,
          2018,
          2019,
          2020,
          2021,
          2022
         ],
         "xaxis": "x",
         "y": [
          0.8300000000000054,
          1.8999999999999915,
          -0.04999999999999716,
          1.559999999999988,
          2.200000000000003,
          -11.810000000000002
         ],
         "yaxis": "y"
        }
       ],
       "layout": {
        "legend": {
         "title": {
          "text": "market"
         },
         "tracegroupgap": 0
        },
        "template": {
         "data": {
          "bar": [
           {
            "error_x": {
             "color": "#2a3f5f"
            },
            "error_y": {
             "color": "#2a3f5f"
            },
            "marker": {
             "line": {
              "color": "#E5ECF6",
              "width": 0.5
             },
             "pattern": {
              "fillmode": "overlay",
              "size": 10,
              "solidity": 0.2
             }
            },
            "type": "bar"
           }
          ],
          "barpolar": [
           {
            "marker": {
             "line": {
              "color": "#E5ECF6",
              "width": 0.5
             },
             "pattern": {
              "fillmode": "overlay",
              "size": 10,
              "solidity": 0.2
             }
            },
            "type": "barpolar"
           }
          ],
          "carpet": [
           {
            "aaxis": {
             "endlinecolor": "#2a3f5f",
             "gridcolor": "white",
             "linecolor": "white",
             "minorgridcolor": "white",
             "startlinecolor": "#2a3f5f"
            },
            "baxis": {
             "endlinecolor": "#2a3f5f",
             "gridcolor": "white",
             "linecolor": "white",
             "minorgridcolor": "white",
             "startlinecolor": "#2a3f5f"
            },
            "type": "carpet"
           }
          ],
          "choropleth": [
           {
            "colorbar": {
             "outlinewidth": 0,
             "ticks": ""
            },
            "type": "choropleth"
           }
          ],
          "contour": [
           {
            "colorbar": {
             "outlinewidth": 0,
             "ticks": ""
            },
            "colorscale": [
             [
              0,
              "#0d0887"
             ],
             [
              0.1111111111111111,
              "#46039f"
             ],
             [
              0.2222222222222222,
              "#7201a8"
             ],
             [
              0.3333333333333333,
              "#9c179e"
             ],
             [
              0.4444444444444444,
              "#bd3786"
             ],
             [
              0.5555555555555556,
              "#d8576b"
             ],
             [
              0.6666666666666666,
              "#ed7953"
             ],
             [
              0.7777777777777778,
              "#fb9f3a"
             ],
             [
              0.8888888888888888,
              "#fdca26"
             ],
             [
              1,
              "#f0f921"
             ]
            ],
            "type": "contour"
           }
          ],
          "contourcarpet": [
           {
            "colorbar": {
             "outlinewidth": 0,
             "ticks": ""
            },
            "type": "contourcarpet"
           }
          ],
          "heatmap": [
           {
            "colorbar": {
             "outlinewidth": 0,
             "ticks": ""
            },
            "colorscale": [
             [
              0,
              "#0d0887"
             ],
             [
              0.1111111111111111,
              "#46039f"
             ],
             [
              0.2222222222222222,
              "#7201a8"
             ],
             [
              0.3333333333333333,
              "#9c179e"
             ],
             [
              0.4444444444444444,
              "#bd3786"
             ],
             [
              0.5555555555555556,
              "#d8576b"
             ],
             [
              0.6666666666666666,
              "#ed7953"
             ],
             [
              0.7777777777777778,
              "#fb9f3a"
             ],
             [
              0.8888888888888888,
              "#fdca26"
             ],
             [
              1,
              "#f0f921"
             ]
            ],
            "type": "heatmap"
           }
          ],
          "heatmapgl": [
           {
            "colorbar": {
             "outlinewidth": 0,
             "ticks": ""
            },
            "colorscale": [
             [
              0,
              "#0d0887"
             ],
             [
              0.1111111111111111,
              "#46039f"
             ],
             [
              0.2222222222222222,
              "#7201a8"
             ],
             [
              0.3333333333333333,
              "#9c179e"
             ],
             [
              0.4444444444444444,
              "#bd3786"
             ],
             [
              0.5555555555555556,
              "#d8576b"
             ],
             [
              0.6666666666666666,
              "#ed7953"
             ],
             [
              0.7777777777777778,
              "#fb9f3a"
             ],
             [
              0.8888888888888888,
              "#fdca26"
             ],
             [
              1,
              "#f0f921"
             ]
            ],
            "type": "heatmapgl"
           }
          ],
          "histogram": [
           {
            "marker": {
             "pattern": {
              "fillmode": "overlay",
              "size": 10,
              "solidity": 0.2
             }
            },
            "type": "histogram"
           }
          ],
          "histogram2d": [
           {
            "colorbar": {
             "outlinewidth": 0,
             "ticks": ""
            },
            "colorscale": [
             [
              0,
              "#0d0887"
             ],
             [
              0.1111111111111111,
              "#46039f"
             ],
             [
              0.2222222222222222,
              "#7201a8"
             ],
             [
              0.3333333333333333,
              "#9c179e"
             ],
             [
              0.4444444444444444,
              "#bd3786"
             ],
             [
              0.5555555555555556,
              "#d8576b"
             ],
             [
              0.6666666666666666,
              "#ed7953"
             ],
             [
              0.7777777777777778,
              "#fb9f3a"
             ],
             [
              0.8888888888888888,
              "#fdca26"
             ],
             [
              1,
              "#f0f921"
             ]
            ],
            "type": "histogram2d"
           }
          ],
          "histogram2dcontour": [
           {
            "colorbar": {
             "outlinewidth": 0,
             "ticks": ""
            },
            "colorscale": [
             [
              0,
              "#0d0887"
             ],
             [
              0.1111111111111111,
              "#46039f"
             ],
             [
              0.2222222222222222,
              "#7201a8"
             ],
             [
              0.3333333333333333,
              "#9c179e"
             ],
             [
              0.4444444444444444,
              "#bd3786"
             ],
             [
              0.5555555555555556,
              "#d8576b"
             ],
             [
              0.6666666666666666,
              "#ed7953"
             ],
             [
              0.7777777777777778,
              "#fb9f3a"
             ],
             [
              0.8888888888888888,
              "#fdca26"
             ],
             [
              1,
              "#f0f921"
             ]
            ],
            "type": "histogram2dcontour"
           }
          ],
          "mesh3d": [
           {
            "colorbar": {
             "outlinewidth": 0,
             "ticks": ""
            },
            "type": "mesh3d"
           }
          ],
          "parcoords": [
           {
            "line": {
             "colorbar": {
              "outlinewidth": 0,
              "ticks": ""
             }
            },
            "type": "parcoords"
           }
          ],
          "pie": [
           {
            "automargin": true,
            "type": "pie"
           }
          ],
          "scatter": [
           {
            "fillpattern": {
             "fillmode": "overlay",
             "size": 10,
             "solidity": 0.2
            },
            "type": "scatter"
           }
          ],
          "scatter3d": [
           {
            "line": {
             "colorbar": {
              "outlinewidth": 0,
              "ticks": ""
             }
            },
            "marker": {
             "colorbar": {
              "outlinewidth": 0,
              "ticks": ""
             }
            },
            "type": "scatter3d"
           }
          ],
          "scattercarpet": [
           {
            "marker": {
             "colorbar": {
              "outlinewidth": 0,
              "ticks": ""
             }
            },
            "type": "scattercarpet"
           }
          ],
          "scattergeo": [
           {
            "marker": {
             "colorbar": {
              "outlinewidth": 0,
              "ticks": ""
             }
            },
            "type": "scattergeo"
           }
          ],
          "scattergl": [
           {
            "marker": {
             "colorbar": {
              "outlinewidth": 0,
              "ticks": ""
             }
            },
            "type": "scattergl"
           }
          ],
          "scattermapbox": [
           {
            "marker": {
             "colorbar": {
              "outlinewidth": 0,
              "ticks": ""
             }
            },
            "type": "scattermapbox"
           }
          ],
          "scatterpolar": [
           {
            "marker": {
             "colorbar": {
              "outlinewidth": 0,
              "ticks": ""
             }
            },
            "type": "scatterpolar"
           }
          ],
          "scatterpolargl": [
           {
            "marker": {
             "colorbar": {
              "outlinewidth": 0,
              "ticks": ""
             }
            },
            "type": "scatterpolargl"
           }
          ],
          "scatterternary": [
           {
            "marker": {
             "colorbar": {
              "outlinewidth": 0,
              "ticks": ""
             }
            },
            "type": "scatterternary"
           }
          ],
          "surface": [
           {
            "colorbar": {
             "outlinewidth": 0,
             "ticks": ""
            },
            "colorscale": [
             [
              0,
              "#0d0887"
             ],
             [
              0.1111111111111111,
              "#46039f"
             ],
             [
              0.2222222222222222,
              "#7201a8"
             ],
             [
              0.3333333333333333,
              "#9c179e"
             ],
             [
              0.4444444444444444,
              "#bd3786"
             ],
             [
              0.5555555555555556,
              "#d8576b"
             ],
             [
              0.6666666666666666,
              "#ed7953"
             ],
             [
              0.7777777777777778,
              "#fb9f3a"
             ],
             [
              0.8888888888888888,
              "#fdca26"
             ],
             [
              1,
              "#f0f921"
             ]
            ],
            "type": "surface"
           }
          ],
          "table": [
           {
            "cells": {
             "fill": {
              "color": "#EBF0F8"
             },
             "line": {
              "color": "white"
             }
            },
            "header": {
             "fill": {
              "color": "#C8D4E3"
             },
             "line": {
              "color": "white"
             }
            },
            "type": "table"
           }
          ]
         },
         "layout": {
          "annotationdefaults": {
           "arrowcolor": "#2a3f5f",
           "arrowhead": 0,
           "arrowwidth": 1
          },
          "autotypenumbers": "strict",
          "coloraxis": {
           "colorbar": {
            "outlinewidth": 0,
            "ticks": ""
           }
          },
          "colorscale": {
           "diverging": [
            [
             0,
             "#8e0152"
            ],
            [
             0.1,
             "#c51b7d"
            ],
            [
             0.2,
             "#de77ae"
            ],
            [
             0.3,
             "#f1b6da"
            ],
            [
             0.4,
             "#fde0ef"
            ],
            [
             0.5,
             "#f7f7f7"
            ],
            [
             0.6,
             "#e6f5d0"
            ],
            [
             0.7,
             "#b8e186"
            ],
            [
             0.8,
             "#7fbc41"
            ],
            [
             0.9,
             "#4d9221"
            ],
            [
             1,
             "#276419"
            ]
           ],
           "sequential": [
            [
             0,
             "#0d0887"
            ],
            [
             0.1111111111111111,
             "#46039f"
            ],
            [
             0.2222222222222222,
             "#7201a8"
            ],
            [
             0.3333333333333333,
             "#9c179e"
            ],
            [
             0.4444444444444444,
             "#bd3786"
            ],
            [
             0.5555555555555556,
             "#d8576b"
            ],
            [
             0.6666666666666666,
             "#ed7953"
            ],
            [
             0.7777777777777778,
             "#fb9f3a"
            ],
            [
             0.8888888888888888,
             "#fdca26"
            ],
            [
             1,
             "#f0f921"
            ]
           ],
           "sequentialminus": [
            [
             0,
             "#0d0887"
            ],
            [
             0.1111111111111111,
             "#46039f"
            ],
            [
             0.2222222222222222,
             "#7201a8"
            ],
            [
             0.3333333333333333,
             "#9c179e"
            ],
            [
             0.4444444444444444,
             "#bd3786"
            ],
            [
             0.5555555555555556,
             "#d8576b"
            ],
            [
             0.6666666666666666,
             "#ed7953"
            ],
            [
             0.7777777777777778,
             "#fb9f3a"
            ],
            [
             0.8888888888888888,
             "#fdca26"
            ],
            [
             1,
             "#f0f921"
            ]
           ]
          },
          "colorway": [
           "#636efa",
           "#EF553B",
           "#00cc96",
           "#ab63fa",
           "#FFA15A",
           "#19d3f3",
           "#FF6692",
           "#B6E880",
           "#FF97FF",
           "#FECB52"
          ],
          "font": {
           "color": "#2a3f5f"
          },
          "geo": {
           "bgcolor": "white",
           "lakecolor": "white",
           "landcolor": "#E5ECF6",
           "showlakes": true,
           "showland": true,
           "subunitcolor": "white"
          },
          "hoverlabel": {
           "align": "left"
          },
          "hovermode": "closest",
          "mapbox": {
           "style": "light"
          },
          "paper_bgcolor": "white",
          "plot_bgcolor": "#E5ECF6",
          "polar": {
           "angularaxis": {
            "gridcolor": "white",
            "linecolor": "white",
            "ticks": ""
           },
           "bgcolor": "#E5ECF6",
           "radialaxis": {
            "gridcolor": "white",
            "linecolor": "white",
            "ticks": ""
           }
          },
          "scene": {
           "xaxis": {
            "backgroundcolor": "#E5ECF6",
            "gridcolor": "white",
            "gridwidth": 2,
            "linecolor": "white",
            "showbackground": true,
            "ticks": "",
            "zerolinecolor": "white"
           },
           "yaxis": {
            "backgroundcolor": "#E5ECF6",
            "gridcolor": "white",
            "gridwidth": 2,
            "linecolor": "white",
            "showbackground": true,
            "ticks": "",
            "zerolinecolor": "white"
           },
           "zaxis": {
            "backgroundcolor": "#E5ECF6",
            "gridcolor": "white",
            "gridwidth": 2,
            "linecolor": "white",
            "showbackground": true,
            "ticks": "",
            "zerolinecolor": "white"
           }
          },
          "shapedefaults": {
           "line": {
            "color": "#2a3f5f"
           }
          },
          "ternary": {
           "aaxis": {
            "gridcolor": "white",
            "linecolor": "white",
            "ticks": ""
           },
           "baxis": {
            "gridcolor": "white",
            "linecolor": "white",
            "ticks": ""
           },
           "bgcolor": "#E5ECF6",
           "caxis": {
            "gridcolor": "white",
            "linecolor": "white",
            "ticks": ""
           }
          },
          "title": {
           "x": 0.05
          },
          "xaxis": {
           "automargin": true,
           "gridcolor": "white",
           "linecolor": "white",
           "ticks": "",
           "title": {
            "standoff": 15
           },
           "zerolinecolor": "white",
           "zerolinewidth": 2
          },
          "yaxis": {
           "automargin": true,
           "gridcolor": "white",
           "linecolor": "white",
           "ticks": "",
           "title": {
            "standoff": 15
           },
           "zerolinecolor": "white",
           "zerolinewidth": 2
          }
         }
        },
        "title": {
         "text": "Price Difference Per Year (Sum)"
        },
        "updatemenus": [
         {
          "buttons": [
           {
            "args": [
             {
              "visible": [
               {
                "hovertemplate": "market=Madaba<br>year=%{x}<br>sum_diff=%{y}<extra></extra>",
                "legendgroup": "Madaba",
                "line": {
                 "color": "#636efa",
                 "dash": "solid"
                },
                "marker": {
                 "symbol": "circle"
                },
                "mode": "lines+markers",
                "name": "Madaba",
                "orientation": "v",
                "showlegend": true,
                "type": "scatter",
                "x": [
                 2017,
                 2018,
                 2019,
                 2020,
                 2021,
                 2022
                ],
                "xaxis": "x",
                "y": [
                 50.28999999999999,
                 0.8299999999999983,
                 0.25,
                 1.1799999999999926,
                 1.9399999999999977,
                 -0.7099999999999937
                ],
                "yaxis": "y"
               },
               {
                "hovertemplate": "market=Al Aqaba<br>year=%{x}<br>sum_diff=%{y}<extra></extra>",
                "legendgroup": "Al Aqaba",
                "line": {
                 "color": "#EF553B",
                 "dash": "solid"
                },
                "marker": {
                 "symbol": "circle"
                },
                "mode": "lines+markers",
                "name": "Al Aqaba",
                "orientation": "v",
                "showlegend": true,
                "type": "scatter",
                "x": [
                 2017,
                 2018,
                 2019,
                 2020,
                 2021,
                 2022
                ],
                "xaxis": "x",
                "y": [
                 5.869999999999997,
                 2.0799999999999983,
                 -0.9200000000000017,
                 1.3999999999999915,
                 1.4300000000000068,
                 0.09999999999999432
                ],
                "yaxis": "y"
               },
               {
                "hovertemplate": "market=Al Tafilah<br>year=%{x}<br>sum_diff=%{y}<extra></extra>",
                "legendgroup": "Al Tafilah",
                "line": {
                 "color": "#00cc96",
                 "dash": "solid"
                },
                "marker": {
                 "symbol": "circle"
                },
                "mode": "lines+markers",
                "name": "Al Tafilah",
                "orientation": "v",
                "showlegend": true,
                "type": "scatter",
                "x": [
                 2017,
                 2018,
                 2019,
                 2020,
                 2021,
                 2022
                ],
                "xaxis": "x",
                "y": [
                 4.730000000000004,
                 0.539999999999992,
                 2.019999999999996,
                 -1.75,
                 2.5,
                 -8.009999999999998
                ],
                "yaxis": "y"
               },
               {
                "hovertemplate": "market=Al Mafraq<br>year=%{x}<br>sum_diff=%{y}<extra></extra>",
                "legendgroup": "Al Mafraq",
                "line": {
                 "color": "#ab63fa",
                 "dash": "solid"
                },
                "marker": {
                 "symbol": "circle"
                },
                "mode": "lines+markers",
                "name": "Al Mafraq",
                "orientation": "v",
                "showlegend": true,
                "type": "scatter",
                "x": [
                 2017,
                 2018,
                 2019,
                 2020,
                 2021,
                 2022
                ],
                "xaxis": "x",
                "y": [
                 4.700000000000003,
                 -2.470000000000013,
                 2.219999999999999,
                 0.6200000000000045,
                 0.960000000000008,
                 -3.219999999999999
                ],
                "yaxis": "y"
               },
               {
                "hovertemplate": "market=Irbid<br>year=%{x}<br>sum_diff=%{y}<extra></extra>",
                "legendgroup": "Irbid",
                "line": {
                 "color": "#FFA15A",
                 "dash": "solid"
                },
                "marker": {
                 "symbol": "circle"
                },
                "mode": "lines+markers",
                "name": "Irbid",
                "orientation": "v",
                "showlegend": true,
                "type": "scatter",
                "x": [
                 2017,
                 2018,
                 2019,
                 2020,
                 2021,
                 2022
                ],
                "xaxis": "x",
                "y": [
                 4.27000000000001,
                 -1.4300000000000068,
                 2.1700000000000017,
                 1.2700000000000102,
                 1.9200000000000017,
                 -0.6000000000000085
                ],
                "yaxis": "y"
               },
               {
                "hovertemplate": "market=Jarash<br>year=%{x}<br>sum_diff=%{y}<extra></extra>",
                "legendgroup": "Jarash",
                "line": {
                 "color": "#19d3f3",
                 "dash": "solid"
                },
                "marker": {
                 "symbol": "circle"
                },
                "mode": "lines+markers",
                "name": "Jarash",
                "orientation": "v",
                "showlegend": true,
                "type": "scatter",
                "x": [
                 2017,
                 2018,
                 2019,
                 2020,
                 2021,
                 2022
                ],
                "xaxis": "x",
                "y": [
                 4.25,
                 -1.019999999999996,
                 -0.1599999999999966,
                 0.9500000000000028,
                 0.1599999999999966,
                 0.9200000000000017
                ],
                "yaxis": "y"
               },
               {
                "hovertemplate": "market=Ajloun<br>year=%{x}<br>sum_diff=%{y}<extra></extra>",
                "legendgroup": "Ajloun",
                "line": {
                 "color": "#FF6692",
                 "dash": "solid"
                },
                "marker": {
                 "symbol": "circle"
                },
                "mode": "lines+markers",
                "name": "Ajloun",
                "orientation": "v",
                "showlegend": true,
                "type": "scatter",
                "x": [
                 2017,
                 2018,
                 2019,
                 2020,
                 2021,
                 2022
                ],
                "xaxis": "x",
                "y": [
                 4.179999999999993,
                 -0.09999999999999432,
                 0.9099999999999966,
                 0.2600000000000051,
                 1.1300000000000097,
                 -1.4200000000000017
                ],
                "yaxis": "y"
               },
               {
                "hovertemplate": "market=Maan<br>year=%{x}<br>sum_diff=%{y}<extra></extra>",
                "legendgroup": "Maan",
                "line": {
                 "color": "#B6E880",
                 "dash": "solid"
                },
                "marker": {
                 "symbol": "circle"
                },
                "mode": "lines+markers",
                "name": "Maan",
                "orientation": "v",
                "showlegend": true,
                "type": "scatter",
                "x": [
                 2017,
                 2018,
                 2019,
                 2020,
                 2021,
                 2022
                ],
                "xaxis": "x",
                "y": [
                 4.1599999999999895,
                 -2.480000000000004,
                 0.09000000000000341,
                 2.6999999999999886,
                 2.3900000000000006,
                 -7.049999999999997
                ],
                "yaxis": "y"
               },
               {
                "hovertemplate": "market=Al Karak<br>year=%{x}<br>sum_diff=%{y}<extra></extra>",
                "legendgroup": "Al Karak",
                "line": {
                 "color": "#FF97FF",
                 "dash": "solid"
                },
                "marker": {
                 "symbol": "circle"
                },
                "mode": "lines+markers",
                "name": "Al Karak",
                "orientation": "v",
                "showlegend": true,
                "type": "scatter",
                "x": [
                 2017,
                 2018,
                 2019,
                 2020,
                 2021,
                 2022
                ],
                "xaxis": "x",
                "y": [
                 4.119999999999997,
                 0.5099999999999909,
                 2.6700000000000017,
                 0.519999999999996,
                 -0.9299999999999926,
                 0.1799999999999926
                ],
                "yaxis": "y"
               },
               {
                "hovertemplate": "market=Amman<br>year=%{x}<br>sum_diff=%{y}<extra></extra>",
                "legendgroup": "Amman",
                "line": {
                 "color": "#FECB52",
                 "dash": "solid"
                },
                "marker": {
                 "symbol": "circle"
                },
                "mode": "lines+markers",
                "name": "Amman",
                "orientation": "v",
                "showlegend": true,
                "type": "scatter",
                "x": [
                 2017,
                 2018,
                 2019,
                 2020,
                 2021,
                 2022
                ],
                "xaxis": "x",
                "y": [
                 3.440000000000005,
                 0.4200000000000017,
                 2.6799999999999926,
                 1.730000000000004,
                 2.0400000000000063,
                 -2.6700000000000017
                ],
                "yaxis": "y"
               },
               {
                "hovertemplate": "market=Al Balqa<br>year=%{x}<br>sum_diff=%{y}<extra></extra>",
                "legendgroup": "Al Balqa",
                "line": {
                 "color": "#636efa",
                 "dash": "solid"
                },
                "marker": {
                 "symbol": "circle"
                },
                "mode": "lines+markers",
                "name": "Al Balqa",
                "orientation": "v",
                "showlegend": true,
                "type": "scatter",
                "x": [
                 2017,
                 2018,
                 2019,
                 2020,
                 2021,
                 2022
                ],
                "xaxis": "x",
                "y": [
                 1.4100000000000037,
                 4.839999999999989,
                 -0.0799999999999983,
                 0.6400000000000006,
                 0.1700000000000017,
                 -3.0800000000000125
                ],
                "yaxis": "y"
               },
               {
                "hovertemplate": "market=Zarqa<br>year=%{x}<br>sum_diff=%{y}<extra></extra>",
                "legendgroup": "Zarqa",
                "line": {
                 "color": "#EF553B",
                 "dash": "solid"
                },
                "marker": {
                 "symbol": "circle"
                },
                "mode": "lines+markers",
                "name": "Zarqa",
                "orientation": "v",
                "showlegend": true,
                "type": "scatter",
                "x": [
                 2017,
                 2018,
                 2019,
                 2020,
                 2021,
                 2022
                ],
                "xaxis": "x",
                "y": [
                 0.8300000000000054,
                 1.8999999999999915,
                 -0.04999999999999716,
                 1.559999999999988,
                 2.200000000000003,
                 -11.810000000000002
                ],
                "yaxis": "y"
               }
              ]
             }
            ],
            "label": "All",
            "method": "restyle"
           },
           {
            "args": [
             {
              "visible": [
               true,
               false,
               false,
               false,
               false,
               false,
               false,
               false,
               false,
               false,
               false,
               false
              ]
             }
            ],
            "label": "Madaba",
            "method": "restyle"
           },
           {
            "args": [
             {
              "visible": [
               false,
               true,
               false,
               false,
               false,
               false,
               false,
               false,
               false,
               false,
               false,
               false
              ]
             }
            ],
            "label": "Al Aqaba",
            "method": "restyle"
           },
           {
            "args": [
             {
              "visible": [
               false,
               false,
               true,
               false,
               false,
               false,
               false,
               false,
               false,
               false,
               false,
               false
              ]
             }
            ],
            "label": "Al Tafilah",
            "method": "restyle"
           },
           {
            "args": [
             {
              "visible": [
               false,
               false,
               false,
               true,
               false,
               false,
               false,
               false,
               false,
               false,
               false,
               false
              ]
             }
            ],
            "label": "Al Mafraq",
            "method": "restyle"
           },
           {
            "args": [
             {
              "visible": [
               false,
               false,
               false,
               false,
               true,
               false,
               false,
               false,
               false,
               false,
               false,
               false
              ]
             }
            ],
            "label": "Irbid",
            "method": "restyle"
           },
           {
            "args": [
             {
              "visible": [
               false,
               false,
               false,
               false,
               false,
               true,
               false,
               false,
               false,
               false,
               false,
               false
              ]
             }
            ],
            "label": "Jarash",
            "method": "restyle"
           },
           {
            "args": [
             {
              "visible": [
               false,
               false,
               false,
               false,
               false,
               false,
               true,
               false,
               false,
               false,
               false,
               false
              ]
             }
            ],
            "label": "Ajloun",
            "method": "restyle"
           },
           {
            "args": [
             {
              "visible": [
               false,
               false,
               false,
               false,
               false,
               false,
               false,
               true,
               false,
               false,
               false,
               false
              ]
             }
            ],
            "label": "Maan",
            "method": "restyle"
           },
           {
            "args": [
             {
              "visible": [
               false,
               false,
               false,
               false,
               false,
               false,
               false,
               false,
               true,
               false,
               false,
               false
              ]
             }
            ],
            "label": "Al Karak",
            "method": "restyle"
           },
           {
            "args": [
             {
              "visible": [
               false,
               false,
               false,
               false,
               false,
               false,
               false,
               false,
               false,
               true,
               false,
               false
              ]
             }
            ],
            "label": "Amman",
            "method": "restyle"
           },
           {
            "args": [
             {
              "visible": [
               false,
               false,
               false,
               false,
               false,
               false,
               false,
               false,
               false,
               false,
               true,
               false
              ]
             }
            ],
            "label": "Al Balqa",
            "method": "restyle"
           },
           {
            "args": [
             {
              "visible": [
               false,
               false,
               false,
               false,
               false,
               false,
               false,
               false,
               false,
               false,
               false,
               true
              ]
             }
            ],
            "label": "Zarqa",
            "method": "restyle"
           }
          ]
         }
        ],
        "xaxis": {
         "anchor": "y",
         "domain": [
          0,
          1
         ],
         "title": {
          "text": "year"
         }
        },
        "yaxis": {
         "anchor": "x",
         "domain": [
          0,
          1
         ],
         "title": {
          "text": "sum_diff"
         }
        }
       }
      }
     },
     "metadata": {},
     "output_type": "display_data"
    }
   ],
   "source": [
    "figreq = px.line(df_pivot, x=\"year\", y=\"sum_diff\", color=\"market\",title='Price Difference Per Year (Sum)').update_traces(\n",
    "    mode=\"lines+markers\")\n",
    "\n",
    "figreq.update_layout(\n",
    "    updatemenus=[\n",
    "        {\n",
    "            \"buttons\": [{\"label\": \"All\", \"method\": \"restyle\", \"args\":[ {\"visible\": list(figreq.data) }]}]+[\n",
    "                {\n",
    "                    \"label\": t.name,\n",
    "                    \"method\": \"restyle\",\n",
    "                    \"args\": [{\"visible\": [t2.name == t.name for t2 in figreq.data]}],}\n",
    "                for t in figreq.data]}])"
   ]
  },
  {
   "cell_type": "code",
   "execution_count": 33,
   "metadata": {},
   "outputs": [],
   "source": [
    "import calendar\n",
    "df_months = df_Outliers_Removed.copy()\n",
    "df_months = df_months.sort_values(by=['year','month','price'], ascending=[True,True,False])\n",
    "df_months['month'] = df_months['month'].apply(lambda x: calendar.month_abbr[x])"
   ]
  },
  {
   "cell_type": "code",
   "execution_count": 34,
   "metadata": {},
   "outputs": [],
   "source": [
    "df_months = df_months[df_months['year'] > 2016]\n",
    "# df_months = df_months.groupby(['month','year'])['price'].mean().reset_index()"
   ]
  },
  {
   "cell_type": "code",
   "execution_count": 35,
   "metadata": {},
   "outputs": [
    {
     "data": {
      "image/png": "[encoded data removed]",
      "text/plain": [
       "<Figure size 1000x600 with 2 Axes>"
      ]
     },
     "metadata": {},
     "output_type": "display_data"
    }
   ],
   "source": [
    "df_pivot = df_months.pivot_table(index = \"market\",columns =  \"year\",values = \"price\",aggfunc='mean', sort = False)\n",
    "df_pivot[2022] = df_pivot[2022].fillna(df_pivot[2022].mean())\n",
    "fig, ax = plt.subplots(figsize = (10,6))\n",
    "ax = sns.heatmap(df_pivot, annot=True,fmt='.2f')\n",
    "plt.title(\"Heatmap price average\")\n",
    "plt.show()"
   ]
  },
  {
   "cell_type": "code",
   "execution_count": 36,
   "metadata": {},
   "outputs": [
    {
     "data": {
      "image/png": "[encoded data removed]",
      "text/plain": [
       "<Figure size 640x480 with 2 Axes>"
      ]
     },
     "metadata": {},
     "output_type": "display_data"
    }
   ],
   "source": [
    "df_corr = df_Outliers_Removed.copy()\n",
    "df_corr = df_corr[['month','year','price']]\n",
    "correlation = df_corr.corr(numeric_only=True, method ='pearson')\n",
    "sns.heatmap(correlation, annot=True)\n",
    "plt.title(\"Heatmap correlation\")\n",
    "plt.show()\n"
   ]
  },
  {
   "cell_type": "code",
   "execution_count": 37,
   "metadata": {},
   "outputs": [
    {
     "name": "stdout",
     "output_type": "stream",
     "text": [
      "0.9839528184361924 [1.23144531 0.74560547 1.84130859 ... 6.33740234 1.39404297 0.58154297]\n"
     ]
    }
   ],
   "source": [
    "X_train, X_test, y_train, y_test = train_test_split(X,y,test_size=0.2,random_state = 0)\n",
    "lr = LinearRegression().fit(X_train,y_train)\n",
    "score = lr.score(X_test,y_test)\n",
    "y_pred = lr.predict(X_test)\n",
    "print(score,y_pred)"
   ]
  },
  {
   "cell_type": "code",
   "execution_count": 38,
   "metadata": {},
   "outputs": [],
   "source": [
    "df_2019 = df_Outliers_Removed[df_Outliers_Removed['year'] == 2019]\n",
    "df_2020_2022 = df_Outliers_Removed[df_Outliers_Removed['year'] > 2019]\n",
    "\n",
    "df_2019 = df_2019.groupby(['category'])['price'].mean().reset_index()"
   ]
  },
  {
   "cell_type": "code",
   "execution_count": 39,
   "metadata": {},
   "outputs": [],
   "source": [
    "# def func(x):\n",
    "#     val = x['category']\n",
    "#     d1 = df_2017_2019[df_2017_2019['category'] == val]\n",
    "#     d2 = df_2020_2022[df_2020_2022['category'] == val]\n",
    "#     # a, p_value = weightstats.ztest(d2.price, d1.price.mean(), alternative=\"larger\")\n",
    "#     print(d2.price,d1.price.mean())\n",
    "#     return val"
   ]
  },
  {
   "cell_type": "code",
   "execution_count": 40,
   "metadata": {},
   "outputs": [
    {
     "name": "stdout",
     "output_type": "stream",
     "text": [
      "0.9654\n",
      "Null hyphothesis cannot be rejected for cereals and tubers\n",
      "0.0182\n",
      "Null hyphothesis rejected for meat, fish and eggs\n",
      "0.7516\n",
      "Null hyphothesis cannot be rejected for milk and dairy\n",
      "0.4182\n",
      "Null hyphothesis cannot be rejected for miscellaneous food\n",
      "1.0\n",
      "Null hyphothesis cannot be rejected for non-food\n",
      "0.168\n",
      "Null hyphothesis cannot be rejected for oil and fats\n",
      "1.0\n",
      "Null hyphothesis cannot be rejected for pulses and nuts\n",
      "0.0\n",
      "Null hyphothesis rejected for vegetables and fruits\n"
     ]
    }
   ],
   "source": [
    "alpha = 0.05\n",
    "for i,j in df_2019.iterrows():\n",
    "    d1 = df_2019[df_2019['category'] == j[0]]\n",
    "    d2 = df_2020_2022[df_2020_2022['category'] == j[0]]\n",
    "    a, p_value = weightstats.ztest(x1 = d2.price, value = d1.price, alternative=\"larger\")\n",
    "    print(round(p_value[0],4))\n",
    "    if p_value < alpha:\n",
    "\n",
    "        print(\"Null hyphothesis rejected for\", j[0])\n",
    "    else:\n",
    "        print(\"Null hyphothesis cannot be rejected for\", j[0])"
   ]
  },
  {
   "cell_type": "code",
   "execution_count": 41,
   "metadata": {},
   "outputs": [],
   "source": [
    "# m=df_2019[df_2019[\"category\"]==\"meat, fish and eggs\"]\n",
    "# value1=m[\"price\"].mean()\n",
    "# n=df_2020_2022[df_2020_2022[\"category\"]==\"meat, fish and eggs\"]\n",
    "# a, p_value = weightstats.ztest(n[\"price\"], value=value1, alternative=\"larger\")\n",
    "# print(\"p-value = \", round(p_value, 4))"
   ]
  },
  {
   "cell_type": "code",
   "execution_count": 42,
   "metadata": {},
   "outputs": [
    {
     "name": "stderr",
     "output_type": "stream",
     "text": [
      "C:\\Users\\Saif\\AppData\\Local\\Temp\\ipykernel_26476\\3709547307.py:8: FutureWarning:\n",
      "\n",
      "The frame.append method is deprecated and will be removed from pandas in a future version. Use pandas.concat instead.\n",
      "\n"
     ]
    }
   ],
   "source": [
    "#here the x-axis is category\n",
    "\n",
    "df5 = df_2019.groupby(['category'], as_index=True)['price'].mean().reset_index()\n",
    "df6 = df_2020_2022.groupby(['category'], as_index=True)['price'].mean().reset_index()\n",
    "\n",
    "df5.insert(0, 'year','2019')\n",
    "df6.insert(0, 'year','2020-2022')\n",
    "df5 = df5.append(df6)"
   ]
  },
  {
   "cell_type": "code",
   "execution_count": 43,
   "metadata": {},
   "outputs": [
    {
     "data": {
      "application/vnd.plotly.v1+json": {
       "config": {
        "plotlyServerURL": "https://plot.ly"
       },
       "data": [
        {
         "alignmentgroup": "True",
         "hovertemplate": "year=2019<br>category=%{x}<br>price=%{y}<extra></extra>",
         "legendgroup": "2019",
         "marker": {
          "color": "#636efa",
          "pattern": {
           "shape": ""
          }
         },
         "name": "2019",
         "offsetgroup": "2019",
         "orientation": "v",
         "showlegend": true,
         "textposition": "auto",
         "type": "bar",
         "x": [
          "cereals and tubers",
          "meat, fish and eggs",
          "milk and dairy",
          "miscellaneous food",
          "non-food",
          "oil and fats",
          "pulses and nuts",
          "vegetables and fruits"
         ],
         "xaxis": "x",
         "y": [
          0.7344352941176471,
          4.099027283511269,
          2.7460416666666667,
          0.48267361111111107,
          2.7775000000000003,
          4.252847222222222,
          1.5286396181384247,
          1.0317903525046381
         ],
         "yaxis": "y"
        },
        {
         "alignmentgroup": "True",
         "hovertemplate": "year=2020-2022<br>category=%{x}<br>price=%{y}<extra></extra>",
         "legendgroup": "2020-2022",
         "marker": {
          "color": "#EF553B",
          "pattern": {
           "shape": ""
          }
         },
         "name": "2020-2022",
         "offsetgroup": "2020-2022",
         "orientation": "v",
         "showlegend": true,
         "textposition": "auto",
         "type": "bar",
         "x": [
          "cereals and tubers",
          "meat, fish and eggs",
          "milk and dairy",
          "miscellaneous food",
          "non-food",
          "oil and fats",
          "pulses and nuts",
          "vegetables and fruits"
         ],
         "xaxis": "x",
         "y": [
          0.7209439124487004,
          4.254506978838362,
          2.7106887052341597,
          0.4842876526458616,
          2.4318030303030302,
          4.3332524964336665,
          1.4618761220825853,
          1.1682254025044723
         ],
         "yaxis": "y"
        }
       ],
       "layout": {
        "barmode": "group",
        "legend": {
         "title": {
          "text": "year"
         },
         "tracegroupgap": 0
        },
        "margin": {
         "t": 60
        },
        "template": {
         "data": {
          "bar": [
           {
            "error_x": {
             "color": "#2a3f5f"
            },
            "error_y": {
             "color": "#2a3f5f"
            },
            "marker": {
             "line": {
              "color": "#E5ECF6",
              "width": 0.5
             },
             "pattern": {
              "fillmode": "overlay",
              "size": 10,
              "solidity": 0.2
             }
            },
            "type": "bar"
           }
          ],
          "barpolar": [
           {
            "marker": {
             "line": {
              "color": "#E5ECF6",
              "width": 0.5
             },
             "pattern": {
              "fillmode": "overlay",
              "size": 10,
              "solidity": 0.2
             }
            },
            "type": "barpolar"
           }
          ],
          "carpet": [
           {
            "aaxis": {
             "endlinecolor": "#2a3f5f",
             "gridcolor": "white",
             "linecolor": "white",
             "minorgridcolor": "white",
             "startlinecolor": "#2a3f5f"
            },
            "baxis": {
             "endlinecolor": "#2a3f5f",
             "gridcolor": "white",
             "linecolor": "white",
             "minorgridcolor": "white",
             "startlinecolor": "#2a3f5f"
            },
            "type": "carpet"
           }
          ],
          "choropleth": [
           {
            "colorbar": {
             "outlinewidth": 0,
             "ticks": ""
            },
            "type": "choropleth"
           }
          ],
          "contour": [
           {
            "colorbar": {
             "outlinewidth": 0,
             "ticks": ""
            },
            "colorscale": [
             [
              0,
              "#0d0887"
             ],
             [
              0.1111111111111111,
              "#46039f"
             ],
             [
              0.2222222222222222,
              "#7201a8"
             ],
             [
              0.3333333333333333,
              "#9c179e"
             ],
             [
              0.4444444444444444,
              "#bd3786"
             ],
             [
              0.5555555555555556,
              "#d8576b"
             ],
             [
              0.6666666666666666,
              "#ed7953"
             ],
             [
              0.7777777777777778,
              "#fb9f3a"
             ],
             [
              0.8888888888888888,
              "#fdca26"
             ],
             [
              1,
              "#f0f921"
             ]
            ],
            "type": "contour"
           }
          ],
          "contourcarpet": [
           {
            "colorbar": {
             "outlinewidth": 0,
             "ticks": ""
            },
            "type": "contourcarpet"
           }
          ],
          "heatmap": [
           {
            "colorbar": {
             "outlinewidth": 0,
             "ticks": ""
            },
            "colorscale": [
             [
              0,
              "#0d0887"
             ],
             [
              0.1111111111111111,
              "#46039f"
             ],
             [
              0.2222222222222222,
              "#7201a8"
             ],
             [
              0.3333333333333333,
              "#9c179e"
             ],
             [
              0.4444444444444444,
              "#bd3786"
             ],
             [
              0.5555555555555556,
              "#d8576b"
             ],
             [
              0.6666666666666666,
              "#ed7953"
             ],
             [
              0.7777777777777778,
              "#fb9f3a"
             ],
             [
              0.8888888888888888,
              "#fdca26"
             ],
             [
              1,
              "#f0f921"
             ]
            ],
            "type": "heatmap"
           }
          ],
          "heatmapgl": [
           {
            "colorbar": {
             "outlinewidth": 0,
             "ticks": ""
            },
            "colorscale": [
             [
              0,
              "#0d0887"
             ],
             [
              0.1111111111111111,
              "#46039f"
             ],
             [
              0.2222222222222222,
              "#7201a8"
             ],
             [
              0.3333333333333333,
              "#9c179e"
             ],
             [
              0.4444444444444444,
              "#bd3786"
             ],
             [
              0.5555555555555556,
              "#d8576b"
             ],
             [
              0.6666666666666666,
              "#ed7953"
             ],
             [
              0.7777777777777778,
              "#fb9f3a"
             ],
             [
              0.8888888888888888,
              "#fdca26"
             ],
             [
              1,
              "#f0f921"
             ]
            ],
            "type": "heatmapgl"
           }
          ],
          "histogram": [
           {
            "marker": {
             "pattern": {
              "fillmode": "overlay",
              "size": 10,
              "solidity": 0.2
             }
            },
            "type": "histogram"
           }
          ],
          "histogram2d": [
           {
            "colorbar": {
             "outlinewidth": 0,
             "ticks": ""
            },
            "colorscale": [
             [
              0,
              "#0d0887"
             ],
             [
              0.1111111111111111,
              "#46039f"
             ],
             [
              0.2222222222222222,
              "#7201a8"
             ],
             [
              0.3333333333333333,
              "#9c179e"
             ],
             [
              0.4444444444444444,
              "#bd3786"
             ],
             [
              0.5555555555555556,
              "#d8576b"
             ],
             [
              0.6666666666666666,
              "#ed7953"
             ],
             [
              0.7777777777777778,
              "#fb9f3a"
             ],
             [
              0.8888888888888888,
              "#fdca26"
             ],
             [
              1,
              "#f0f921"
             ]
            ],
            "type": "histogram2d"
           }
          ],
          "histogram2dcontour": [
           {
            "colorbar": {
             "outlinewidth": 0,
             "ticks": ""
            },
            "colorscale": [
             [
              0,
              "#0d0887"
             ],
             [
              0.1111111111111111,
              "#46039f"
             ],
             [
              0.2222222222222222,
              "#7201a8"
             ],
             [
              0.3333333333333333,
              "#9c179e"
             ],
             [
              0.4444444444444444,
              "#bd3786"
             ],
             [
              0.5555555555555556,
              "#d8576b"
             ],
             [
              0.6666666666666666,
              "#ed7953"
             ],
             [
              0.7777777777777778,
              "#fb9f3a"
             ],
             [
              0.8888888888888888,
              "#fdca26"
             ],
             [
              1,
              "#f0f921"
             ]
            ],
            "type": "histogram2dcontour"
           }
          ],
          "mesh3d": [
           {
            "colorbar": {
             "outlinewidth": 0,
             "ticks": ""
            },
            "type": "mesh3d"
           }
          ],
          "parcoords": [
           {
            "line": {
             "colorbar": {
              "outlinewidth": 0,
              "ticks": ""
             }
            },
            "type": "parcoords"
           }
          ],
          "pie": [
           {
            "automargin": true,
            "type": "pie"
           }
          ],
          "scatter": [
           {
            "fillpattern": {
             "fillmode": "overlay",
             "size": 10,
             "solidity": 0.2
            },
            "type": "scatter"
           }
          ],
          "scatter3d": [
           {
            "line": {
             "colorbar": {
              "outlinewidth": 0,
              "ticks": ""
             }
            },
            "marker": {
             "colorbar": {
              "outlinewidth": 0,
              "ticks": ""
             }
            },
            "type": "scatter3d"
           }
          ],
          "scattercarpet": [
           {
            "marker": {
             "colorbar": {
              "outlinewidth": 0,
              "ticks": ""
             }
            },
            "type": "scattercarpet"
           }
          ],
          "scattergeo": [
           {
            "marker": {
             "colorbar": {
              "outlinewidth": 0,
              "ticks": ""
             }
            },
            "type": "scattergeo"
           }
          ],
          "scattergl": [
           {
            "marker": {
             "colorbar": {
              "outlinewidth": 0,
              "ticks": ""
             }
            },
            "type": "scattergl"
           }
          ],
          "scattermapbox": [
           {
            "marker": {
             "colorbar": {
              "outlinewidth": 0,
              "ticks": ""
             }
            },
            "type": "scattermapbox"
           }
          ],
          "scatterpolar": [
           {
            "marker": {
             "colorbar": {
              "outlinewidth": 0,
              "ticks": ""
             }
            },
            "type": "scatterpolar"
           }
          ],
          "scatterpolargl": [
           {
            "marker": {
             "colorbar": {
              "outlinewidth": 0,
              "ticks": ""
             }
            },
            "type": "scatterpolargl"
           }
          ],
          "scatterternary": [
           {
            "marker": {
             "colorbar": {
              "outlinewidth": 0,
              "ticks": ""
             }
            },
            "type": "scatterternary"
           }
          ],
          "surface": [
           {
            "colorbar": {
             "outlinewidth": 0,
             "ticks": ""
            },
            "colorscale": [
             [
              0,
              "#0d0887"
             ],
             [
              0.1111111111111111,
              "#46039f"
             ],
             [
              0.2222222222222222,
              "#7201a8"
             ],
             [
              0.3333333333333333,
              "#9c179e"
             ],
             [
              0.4444444444444444,
              "#bd3786"
             ],
             [
              0.5555555555555556,
              "#d8576b"
             ],
             [
              0.6666666666666666,
              "#ed7953"
             ],
             [
              0.7777777777777778,
              "#fb9f3a"
             ],
             [
              0.8888888888888888,
              "#fdca26"
             ],
             [
              1,
              "#f0f921"
             ]
            ],
            "type": "surface"
           }
          ],
          "table": [
           {
            "cells": {
             "fill": {
              "color": "#EBF0F8"
             },
             "line": {
              "color": "white"
             }
            },
            "header": {
             "fill": {
              "color": "#C8D4E3"
             },
             "line": {
              "color": "white"
             }
            },
            "type": "table"
           }
          ]
         },
         "layout": {
          "annotationdefaults": {
           "arrowcolor": "#2a3f5f",
           "arrowhead": 0,
           "arrowwidth": 1
          },
          "autotypenumbers": "strict",
          "coloraxis": {
           "colorbar": {
            "outlinewidth": 0,
            "ticks": ""
           }
          },
          "colorscale": {
           "diverging": [
            [
             0,
             "#8e0152"
            ],
            [
             0.1,
             "#c51b7d"
            ],
            [
             0.2,
             "#de77ae"
            ],
            [
             0.3,
             "#f1b6da"
            ],
            [
             0.4,
             "#fde0ef"
            ],
            [
             0.5,
             "#f7f7f7"
            ],
            [
             0.6,
             "#e6f5d0"
            ],
            [
             0.7,
             "#b8e186"
            ],
            [
             0.8,
             "#7fbc41"
            ],
            [
             0.9,
             "#4d9221"
            ],
            [
             1,
             "#276419"
            ]
           ],
           "sequential": [
            [
             0,
             "#0d0887"
            ],
            [
             0.1111111111111111,
             "#46039f"
            ],
            [
             0.2222222222222222,
             "#7201a8"
            ],
            [
             0.3333333333333333,
             "#9c179e"
            ],
            [
             0.4444444444444444,
             "#bd3786"
            ],
            [
             0.5555555555555556,
             "#d8576b"
            ],
            [
             0.6666666666666666,
             "#ed7953"
            ],
            [
             0.7777777777777778,
             "#fb9f3a"
            ],
            [
             0.8888888888888888,
             "#fdca26"
            ],
            [
             1,
             "#f0f921"
            ]
           ],
           "sequentialminus": [
            [
             0,
             "#0d0887"
            ],
            [
             0.1111111111111111,
             "#46039f"
            ],
            [
             0.2222222222222222,
             "#7201a8"
            ],
            [
             0.3333333333333333,
             "#9c179e"
            ],
            [
             0.4444444444444444,
             "#bd3786"
            ],
            [
             0.5555555555555556,
             "#d8576b"
            ],
            [
             0.6666666666666666,
             "#ed7953"
            ],
            [
             0.7777777777777778,
             "#fb9f3a"
            ],
            [
             0.8888888888888888,
             "#fdca26"
            ],
            [
             1,
             "#f0f921"
            ]
           ]
          },
          "colorway": [
           "#636efa",
           "#EF553B",
           "#00cc96",
           "#ab63fa",
           "#FFA15A",
           "#19d3f3",
           "#FF6692",
           "#B6E880",
           "#FF97FF",
           "#FECB52"
          ],
          "font": {
           "color": "#2a3f5f"
          },
          "geo": {
           "bgcolor": "white",
           "lakecolor": "white",
           "landcolor": "#E5ECF6",
           "showlakes": true,
           "showland": true,
           "subunitcolor": "white"
          },
          "hoverlabel": {
           "align": "left"
          },
          "hovermode": "closest",
          "mapbox": {
           "style": "light"
          },
          "paper_bgcolor": "white",
          "plot_bgcolor": "#E5ECF6",
          "polar": {
           "angularaxis": {
            "gridcolor": "white",
            "linecolor": "white",
            "ticks": ""
           },
           "bgcolor": "#E5ECF6",
           "radialaxis": {
            "gridcolor": "white",
            "linecolor": "white",
            "ticks": ""
           }
          },
          "scene": {
           "xaxis": {
            "backgroundcolor": "#E5ECF6",
            "gridcolor": "white",
            "gridwidth": 2,
            "linecolor": "white",
            "showbackground": true,
            "ticks": "",
            "zerolinecolor": "white"
           },
           "yaxis": {
            "backgroundcolor": "#E5ECF6",
            "gridcolor": "white",
            "gridwidth": 2,
            "linecolor": "white",
            "showbackground": true,
            "ticks": "",
            "zerolinecolor": "white"
           },
           "zaxis": {
            "backgroundcolor": "#E5ECF6",
            "gridcolor": "white",
            "gridwidth": 2,
            "linecolor": "white",
            "showbackground": true,
            "ticks": "",
            "zerolinecolor": "white"
           }
          },
          "shapedefaults": {
           "line": {
            "color": "#2a3f5f"
           }
          },
          "ternary": {
           "aaxis": {
            "gridcolor": "white",
            "linecolor": "white",
            "ticks": ""
           },
           "baxis": {
            "gridcolor": "white",
            "linecolor": "white",
            "ticks": ""
           },
           "bgcolor": "#E5ECF6",
           "caxis": {
            "gridcolor": "white",
            "linecolor": "white",
            "ticks": ""
           }
          },
          "title": {
           "x": 0.05
          },
          "xaxis": {
           "automargin": true,
           "gridcolor": "white",
           "linecolor": "white",
           "ticks": "",
           "title": {
            "standoff": 15
           },
           "zerolinecolor": "white",
           "zerolinewidth": 2
          },
          "yaxis": {
           "automargin": true,
           "gridcolor": "white",
           "linecolor": "white",
           "ticks": "",
           "title": {
            "standoff": 15
           },
           "zerolinecolor": "white",
           "zerolinewidth": 2
          }
         }
        },
        "xaxis": {
         "anchor": "y",
         "domain": [
          0,
          1
         ],
         "title": {
          "text": "category"
         }
        },
        "yaxis": {
         "anchor": "x",
         "domain": [
          0,
          1
         ],
         "title": {
          "text": "price"
         }
        }
       }
      }
     },
     "metadata": {},
     "output_type": "display_data"
    }
   ],
   "source": [
    "fig = px.bar(df5, x=\"category\", y=\"price\",\n",
    "color='year', barmode='group')\n",
    "fig.show()"
   ]
  },
  {
   "cell_type": "code",
   "execution_count": 69,
   "metadata": {},
   "outputs": [
    {
     "name": "stderr",
     "output_type": "stream",
     "text": [
      "C:\\Users\\Saif\\AppData\\Local\\Temp\\ipykernel_26476\\4177737348.py:8: UserWarning:\n",
      "\n",
      "\n",
      "\n",
      "`distplot` is a deprecated function and will be removed in seaborn v0.14.0.\n",
      "\n",
      "Please adapt your code to use either `displot` (a figure-level function with\n",
      "similar flexibility) or `histplot` (an axes-level function for histograms).\n",
      "\n",
      "For a guide to updating your code to use the new functions, please see\n",
      "https://gist.github.com/mwaskom/de44147ed2974457ad6372750bbe5751\n",
      "\n",
      "\n"
     ]
    },
    {
     "data": {
      "text/plain": [
       "(2.1189264654873394, 2.4386139031807237, 7.0, 1.13)"
      ]
     },
     "execution_count": 69,
     "metadata": {},
     "output_type": "execute_result"
    },
    {
     "data": {
      "image/png": "[encoded data removed]",
      "text/plain": [
       "<Figure size 640x480 with 1 Axes>"
      ]
     },
     "metadata": {},
     "output_type": "display_data"
    }
   ],
   "source": [
    "import statistics as st\n",
    "x = df[\"price\"].sort_values()\n",
    "df_mean = np.mean(x)\n",
    "df_std = np.std(x)\n",
    "df_mode = st.mode(x)\n",
    "df_median = np.median(x)\n",
    "pdf =  stats.norm.pdf(x,df_mean,df_std)\n",
    "sns.distplot(x,kde = True)\n",
    "df_mean,df_std,df_mode,df_median"
   ]
  },
  {
   "cell_type": "code",
   "execution_count": 50,
   "metadata": {},
   "outputs": [
    {
     "data": {
      "text/html": [
       "<div>\n",
       "<style scoped>\n",
       "    .dataframe tbody tr th:only-of-type {\n",
       "        vertical-align: middle;\n",
       "    }\n",
       "\n",
       "    .dataframe tbody tr th {\n",
       "        vertical-align: top;\n",
       "    }\n",
       "\n",
       "    .dataframe thead th {\n",
       "        text-align: right;\n",
       "    }\n",
       "</style>\n",
       "<table border=\"1\" class=\"dataframe\">\n",
       "  <thead>\n",
       "    <tr style=\"text-align: right;\">\n",
       "      <th>commodity</th>\n",
       "      <th>Bread (pita)</th>\n",
       "      <th>Rice (imported)</th>\n",
       "      <th>Salt (iodised)</th>\n",
       "      <th>Cheese (white, boiled)</th>\n",
       "      <th>Meat (chicken)</th>\n",
       "      <th>Oil (olive)</th>\n",
       "    </tr>\n",
       "  </thead>\n",
       "  <tbody>\n",
       "    <tr>\n",
       "      <th>count</th>\n",
       "      <td>12.000000</td>\n",
       "      <td>12.000000</td>\n",
       "      <td>6.000000</td>\n",
       "      <td>11.000000</td>\n",
       "      <td>11.000000</td>\n",
       "      <td>11.000000</td>\n",
       "    </tr>\n",
       "    <tr>\n",
       "      <th>mean</th>\n",
       "      <td>0.230487</td>\n",
       "      <td>1.210991</td>\n",
       "      <td>0.270588</td>\n",
       "      <td>5.352141</td>\n",
       "      <td>2.182399</td>\n",
       "      <td>5.820360</td>\n",
       "    </tr>\n",
       "    <tr>\n",
       "      <th>std</th>\n",
       "      <td>0.078252</td>\n",
       "      <td>0.082150</td>\n",
       "      <td>0.012832</td>\n",
       "      <td>0.448681</td>\n",
       "      <td>0.087179</td>\n",
       "      <td>0.639198</td>\n",
       "    </tr>\n",
       "    <tr>\n",
       "      <th>min</th>\n",
       "      <td>0.160000</td>\n",
       "      <td>1.046667</td>\n",
       "      <td>0.245556</td>\n",
       "      <td>4.293333</td>\n",
       "      <td>2.028671</td>\n",
       "      <td>4.920000</td>\n",
       "    </tr>\n",
       "    <tr>\n",
       "      <th>25%</th>\n",
       "      <td>0.168088</td>\n",
       "      <td>1.184375</td>\n",
       "      <td>0.270243</td>\n",
       "      <td>5.266703</td>\n",
       "      <td>2.125870</td>\n",
       "      <td>5.338370</td>\n",
       "    </tr>\n",
       "    <tr>\n",
       "      <th>50%</th>\n",
       "      <td>0.170000</td>\n",
       "      <td>1.217486</td>\n",
       "      <td>0.275894</td>\n",
       "      <td>5.519306</td>\n",
       "      <td>2.171905</td>\n",
       "      <td>5.637762</td>\n",
       "    </tr>\n",
       "    <tr>\n",
       "      <th>75%</th>\n",
       "      <td>0.320399</td>\n",
       "      <td>1.268854</td>\n",
       "      <td>0.277523</td>\n",
       "      <td>5.670997</td>\n",
       "      <td>2.241012</td>\n",
       "      <td>6.358026</td>\n",
       "    </tr>\n",
       "    <tr>\n",
       "      <th>max</th>\n",
       "      <td>0.322857</td>\n",
       "      <td>1.335357</td>\n",
       "      <td>0.279762</td>\n",
       "      <td>5.699167</td>\n",
       "      <td>2.345000</td>\n",
       "      <td>6.692986</td>\n",
       "    </tr>\n",
       "  </tbody>\n",
       "</table>\n",
       "</div>"
      ],
      "text/plain": [
       "commodity  Bread (pita)  Rice (imported)  Salt (iodised)  \\\n",
       "count         12.000000        12.000000        6.000000   \n",
       "mean           0.230487         1.210991        0.270588   \n",
       "std            0.078252         0.082150        0.012832   \n",
       "min            0.160000         1.046667        0.245556   \n",
       "25%            0.168088         1.184375        0.270243   \n",
       "50%            0.170000         1.217486        0.275894   \n",
       "75%            0.320399         1.268854        0.277523   \n",
       "max            0.322857         1.335357        0.279762   \n",
       "\n",
       "commodity  Cheese (white, boiled)  Meat (chicken)  Oil (olive)  \n",
       "count                   11.000000       11.000000    11.000000  \n",
       "mean                     5.352141        2.182399     5.820360  \n",
       "std                      0.448681        0.087179     0.639198  \n",
       "min                      4.293333        2.028671     4.920000  \n",
       "25%                      5.266703        2.125870     5.338370  \n",
       "50%                      5.519306        2.171905     5.637762  \n",
       "75%                      5.670997        2.241012     6.358026  \n",
       "max                      5.699167        2.345000     6.692986  "
      ]
     },
     "execution_count": 50,
     "metadata": {},
     "output_type": "execute_result"
    }
   ],
   "source": [
    "std  = df_Outliers_Removed.pivot_table(index = ['year'],columns = 'commodity', values = 'price')\n",
    "a = std.loc[:,['Bread (pita)','Rice (imported)','Salt (iodised)','Cheese (white, boiled)','Meat (chicken)','Oil (olive)']]\n",
    "a.describe()"
   ]
  },
  {
   "cell_type": "code",
   "execution_count": 52,
   "metadata": {},
   "outputs": [
    {
     "data": {
      "text/plain": [
       "(2.074739660891345, 0.019005334743658918)"
      ]
     },
     "execution_count": 52,
     "metadata": {},
     "output_type": "execute_result"
    }
   ],
   "source": [
    "a = df_Outliers_Removed[(df_Outliers_Removed['year'] < 2018) & (df_Outliers_Removed['year'] > 2014)].set_index('commodity')\n",
    "b = a.loc['Bread (pita)']\n",
    "Bread12_15 = weightstats.ztest(b['price'], value=0.1671, alternative='larger')"
   ]
  },
  {
   "cell_type": "code",
   "execution_count": null,
   "metadata": {},
   "outputs": [],
   "source": [
    "a = df_Outliers_Removed[(df_Outliers_Removed['year'] < 2021) & (df_Outliers_Removed['year'] > 2017)].set_index('commodity')\n",
    "b = a.loc['Bread (pita)']\n",
    "Bread15_17 = weightstats.ztest(b['price'], value=0.17, alternative='larger')"
   ]
  },
  {
   "cell_type": "code",
   "execution_count": null,
   "metadata": {},
   "outputs": [],
   "source": [
    "a = df_Outliers_Removed[(df_Outliers_Removed['year'] < 2023) & (df_Outliers_Removed['year'] > 2020)].set_index('commodity')\n",
    "b = a.loc['Bread (pita)']\n",
    "Bread18_20 = weightstats.ztest(b['price'], value=0.32, alternative='larger')"
   ]
  },
  {
   "cell_type": "code",
   "execution_count": null,
   "metadata": {},
   "outputs": [],
   "source": [
    "a = df_Outliers_Removed[(df_Outliers_Removed['year'] < 2018) & (df_Outliers_Removed['year'] > 2014)].set_index('commodity')\n",
    "b = a.loc['Rice (imported)']\n",
    "Rice12_14 = weightstats.ztest(b['price'], value=1.2157, alternative='larger')"
   ]
  },
  {
   "cell_type": "code",
   "execution_count": null,
   "metadata": {},
   "outputs": [],
   "source": [
    "a = df_Outliers_Removed[(df_Outliers_Removed['year'] < 2021) & (df_Outliers_Removed['year'] > 2017)].set_index('commodity')\n",
    "b = a.loc['Rice (imported)']\n",
    "Rice15_17 = weightstats.ztest(b['price'], value=1.24664533, alternative='larger')"
   ]
  },
  {
   "cell_type": "code",
   "execution_count": null,
   "metadata": {},
   "outputs": [],
   "source": [
    "a = df_Outliers_Removed[(df_Outliers_Removed['year'] < 2023) & (df_Outliers_Removed['year'] > 2020)].set_index('commodity')\n",
    "b = a.loc['Rice (imported)']\n",
    "Rice18_20 = weightstats.ztest(b['price'], value=1.299671, alternative='larger')"
   ]
  },
  {
   "cell_type": "code",
   "execution_count": null,
   "metadata": {},
   "outputs": [],
   "source": [
    "a = df_Outliers_Removed[(df_Outliers_Removed['year'] < 2019) & (df_Outliers_Removed['year'] > 2016)].set_index('commodity')\n",
    "b = a.loc['Salt (iodised)']\n",
    "salt17_18 = weightstats.ztest(b['price'], value=0.2549225, alternative='larger')"
   ]
  },
  {
   "cell_type": "code",
   "execution_count": null,
   "metadata": {},
   "outputs": [],
   "source": [
    "a = df_Outliers_Removed[(df_Outliers_Removed['year'] < 2023) & (df_Outliers_Removed['year'] > 2020)].set_index('commodity')\n",
    "b = a.loc['Salt (iodised)']\n",
    "salt19_20 = weightstats.ztest(b['price'], value=0.275921, alternative='larger')"
   ]
  },
  {
   "cell_type": "code",
   "execution_count": null,
   "metadata": {},
   "outputs": [],
   "source": [
    "a = df_Outliers_Removed[(df_Outliers_Removed['year'] < 2018) & (df_Outliers_Removed['year'] > 2014)].set_index('commodity')\n",
    "b = a.loc['Cheese (white, boiled)']\n",
    "Cheese12_15 = weightstats.ztest(b['price'], value=4.77, alternative='larger')"
   ]
  },
  {
   "cell_type": "code",
   "execution_count": null,
   "metadata": {},
   "outputs": [],
   "source": [
    "a = df_Outliers_Removed[(df_Outliers_Removed['year'] < 2021) & (df_Outliers_Removed['year'] > 2017)].set_index('commodity')\n",
    "b = a.loc['Cheese (white, boiled)']\n",
    "Cheese15_17 = weightstats.ztest(b['price'], value=5.59759333, alternative='larger')"
   ]
  },
  {
   "cell_type": "code",
   "execution_count": null,
   "metadata": {},
   "outputs": [],
   "source": [
    "a = df_Outliers_Removed[(df_Outliers_Removed['year'] < 2023) & (df_Outliers_Removed['year'] > 2020)].set_index('commodity')\n",
    "b = a.loc['Cheese (white, boiled)']\n",
    "Cheese18_20 = weightstats.ztest(b['price'], value=5.523, alternative='larger')"
   ]
  },
  {
   "cell_type": "code",
   "execution_count": null,
   "metadata": {},
   "outputs": [],
   "source": [
    "a = df_Outliers_Removed[(df_Outliers_Removed['year'] < 2018) & (df_Outliers_Removed['year'] > 2014)].set_index('commodity')\n",
    "b = a.loc['Oil (olive)']\n",
    "oil12_15 = weightstats.ztest(b['price'], value=5.526871, alternative='larger')"
   ]
  },
  {
   "cell_type": "code",
   "execution_count": null,
   "metadata": {},
   "outputs": [],
   "source": [
    "a = df_Outliers_Removed[(df_Outliers_Removed['year'] < 2021) & (df_Outliers_Removed['year'] > 2017)].set_index('commodity')\n",
    "b = a.loc['Oil (olive)']\n",
    "oil15_17 = weightstats.ztest(b['price'], value=5.459, alternative='larger')"
   ]
  },
  {
   "cell_type": "code",
   "execution_count": null,
   "metadata": {},
   "outputs": [],
   "source": [
    "a = df_Outliers_Removed[(df_Outliers_Removed['year'] < 2023) & (df_Outliers_Removed['year'] > 2020)].set_index('commodity')\n",
    "b = a.loc['Oil (olive)']\n",
    "oil18_20 = weightstats.ztest(b['price'], value=6.52, alternative='larger')"
   ]
  }
 ],
 "metadata": {
  "kernelspec": {
   "display_name": "base",
   "language": "python",
   "name": "python3"
  },
  "language_info": {
   "codemirror_mode": {
    "name": "ipython",
    "version": 3
   },
   "file_extension": ".py",
   "mimetype": "text/x-python",
   "name": "python",
   "nbconvert_exporter": "python",
   "pygments_lexer": "ipython3",
   "version": "3.10.9"
  },
  "orig_nbformat": 4
 },
 "nbformat": 4,
 "nbformat_minor": 2
}
